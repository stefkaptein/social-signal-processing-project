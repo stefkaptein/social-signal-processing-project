{
 "cells": [
  {
   "cell_type": "markdown",
   "id": "83a83341",
   "metadata": {},
   "source": [
    "# Build binary classification models where some use RFE selected features"
   ]
  },
  {
   "cell_type": "code",
   "execution_count": 27,
   "id": "d435b1bb",
   "metadata": {},
   "outputs": [],
   "source": [
    "import numpy as np\n",
    "import os\n",
    "import pandas as pd\n",
    "import matplotlib.pyplot as plt\n",
    "import seaborn as sns\n",
    "from scipy.stats import poisson\n",
    "from sklearn.svm import SVC \n",
    "from sklearn.metrics import accuracy_score, classification_report\n",
    "from numpy import mean\n",
    "from numpy import std\n",
    "from sklearn.datasets import make_classification\n",
    "from sklearn.model_selection import cross_val_score\n",
    "from sklearn.model_selection import RepeatedStratifiedKFold\n",
    "from sklearn.ensemble import RandomForestClassifier\n",
    "from sklearn.linear_model import LogisticRegression\n",
    "from sklearn.ensemble import RandomForestClassifier\n",
    "from sklearn.model_selection import StratifiedKFold\n",
    "import xgboost as xgb\n",
    "xgb.set_config(verbosity=0)\n",
    "from sklearn.feature_selection import RFECV\n",
    "import random\n",
    "from sklearn.metrics import matthews_corrcoef\n",
    "from sklearn.metrics import balanced_accuracy_score\n",
    "from sklearn import metrics\n",
    "import matplotlib\n",
    "from sklearn.model_selection import train_test_split \n",
    "pd.set_option('display.max_columns', None)"
   ]
  },
  {
   "cell_type": "code",
   "execution_count": 28,
   "id": "29a92679",
   "metadata": {},
   "outputs": [],
   "source": [
    "# First part is merging all meetings\n",
    "datasets = \"Bed002 Bed003 Bed004 Bed005 Bed006 Bed008 Bed009 Bed010 Bed011 Bed012 Bed013 Bed014 Bed015 Bed016 Bed017 Bmr001 Bmr002 Bmr005 Bmr007 Bmr009 Bmr010 Bmr011 Bmr012 Bmr013 Bmr014 Bmr018 Bmr019 Bmr021 Bmr022 Bmr024 Bmr025 Bmr026 Bmr027 Bmr029 Bns001 Bns002\".split(\" \")\n",
    "meetings = \"Bed002\".split(\" \")\n",
    "results_merged_path = \"../results_merged/\"\n",
    "\n",
    "all_df = pd.DataFrame()\n",
    "for elem in meetings:\n",
    "    path = (os.path.realpath(os.path.join(os.getcwd(), (f\"{results_merged_path}\"+ elem + \".csv\"))))\n",
    "    df = pd.read_csv(path, sep=';')\n",
    "    all_df = pd.concat([all_df,df], ignore_index=True)"
   ]
  },
  {
   "cell_type": "code",
   "execution_count": 29,
   "id": "1576a339",
   "metadata": {},
   "outputs": [
    {
     "name": "stdout",
     "output_type": "stream",
     "text": [
      "count    916.000000\n",
      "mean       0.500000\n",
      "std        0.500273\n",
      "min        0.000000\n",
      "25%        0.000000\n",
      "50%        0.500000\n",
      "75%        1.000000\n",
      "max        1.000000\n",
      "Name: boundary, dtype: float64\n",
      "StartTimeA       0.549669\n",
      "EndTimeA         0.548107\n",
      "StartTimeB       0.549596\n",
      "EndTimeB         0.549842\n",
      "pause            0.065347\n",
      "speakerChange    0.376063\n",
      "dtype: float64\n"
     ]
    }
   ],
   "source": [
    "#change boolean to 1 or 0\n",
    "all_df['speakerChange'] = all_df[\"speakerChange\"].astype(float)\n",
    "all_df['boundary'] = all_df[\"boundary\"].astype(float)\n",
    "\n",
    "#replace nan by zero\n",
    "all_df.fillna(0,inplace=True)\n",
    "\n",
    "#keep only useful columns (can't use f0_means, f0_stds, and similarity yet as they are lists)\n",
    "#test using the same amount of rows with boundary==1 and ==0\n",
    "nbr_1 = len(all_df.loc[all_df['boundary']==1])\n",
    "df_0 = all_df.loc[all_df['boundary']==0].head(nbr_1)\n",
    "df_1 = all_df.loc[all_df['boundary']==1]\n",
    "df_balanced = pd.concat([df_0,df_1], ignore_index=True)\n",
    "df_balanced.reset_index(drop=True,inplace=True)\n",
    "X_df = df_balanced[['StartTimeA','EndTimeA','StartTimeB','EndTimeB','pause','speakerChange']]\n",
    "y_df = df_balanced['boundary']\n",
    "\n",
    "#normal split (but WARNING!!! NBR OF BOUNDARY == 1 IS VERYYYY LOW)\n",
    "X_df = all_df[['StartTimeA','EndTimeA','StartTimeB','EndTimeB','pause','speakerChange']]\n",
    "y_df = all_df['boundary']\n",
    "\n",
    "#check dataset statistics\n",
    "print(y_df.describe())\n",
    "print(X_df.corrwith(y_df))\n",
    "\n",
    "#split dataset\n",
    "X_train_20, X_test_20, y_train_20, y_test_20 = train_test_split(X_df, y_df, test_size = 0.20, random_state = 97,stratify=y_df)\n",
    "X_train_40, X_test_40, y_train_40, y_test_40 = train_test_split(X_df, y_df, test_size = 0.40, random_state = 97,stratify=y_df)"
   ]
  },
  {
   "cell_type": "markdown",
   "id": "888c6482",
   "metadata": {},
   "source": [
    "## Test on commonly used models"
   ]
  },
  {
   "cell_type": "markdown",
   "id": "a0c80bba",
   "metadata": {},
   "source": [
    "### XGB Classifier for binary class"
   ]
  },
  {
   "cell_type": "code",
   "execution_count": 30,
   "id": "cc922337",
   "metadata": {},
   "outputs": [],
   "source": [
    "def XGB_class(X_train, X_test, y_train, y_test,learning_rate, n_estimators, max_depth,min_child_weight, gamma, subsample, colsample_bytree, simple):\n",
    "    \n",
    "    if simple:\n",
    "        clf = xgb.XGBClassifier(seed = 24, use_label_encoder =False)\n",
    "    else:\n",
    "        clf = xgb.XGBClassifier(learning_rate = learning_rate, n_estimators = int(n_estimators), max_depth = int(max_depth), \n",
    "                                min_child_weight = min_child_weight, gamma = gamma, subsample = subsample, \n",
    "                                colsample_bytree = colsample_bytree, seed = 24,eval_metric='mlogloss',use_label_encoder =False)\n",
    "\n",
    "    clf.fit(X_train, y_train)\n",
    "    y_predicted = clf.predict(X_test)\n",
    "\n",
    "    print(classification_report(y_test, y_predicted))\n",
    "    print(\"Accuracy:\", accuracy_score(y_test, y_predicted))\n",
    "    print(\"MCC =\",matthews_corrcoef(y_test, y_predicted))\n",
    "    print(\"AUC =\",metrics.roc_auc_score(y_test, y_predicted))\n",
    "    \n",
    "    return clf.predict_proba(X_test)[:,1]"
   ]
  },
  {
   "cell_type": "code",
   "execution_count": 31,
   "id": "9c01f28d",
   "metadata": {},
   "outputs": [
    {
     "name": "stderr",
     "output_type": "stream",
     "text": [
      "C:\\Users\\marti\\AppData\\Local\\Packages\\PythonSoftwareFoundation.Python.3.10_qbz5n2kfra8p0\\LocalCache\\local-packages\\Python310\\site-packages\\xgboost\\sklearn.py:1421: UserWarning: `use_label_encoder` is deprecated in 1.7.0.\n",
      "  warnings.warn(\"`use_label_encoder` is deprecated in 1.7.0.\")\n",
      "C:\\Users\\marti\\AppData\\Local\\Packages\\PythonSoftwareFoundation.Python.3.10_qbz5n2kfra8p0\\LocalCache\\local-packages\\Python310\\site-packages\\xgboost\\sklearn.py:1421: UserWarning: `use_label_encoder` is deprecated in 1.7.0.\n",
      "  warnings.warn(\"`use_label_encoder` is deprecated in 1.7.0.\")\n"
     ]
    },
    {
     "name": "stdout",
     "output_type": "stream",
     "text": [
      "              precision    recall  f1-score   support\n",
      "\n",
      "         0.0       0.85      0.89      0.87        92\n",
      "         1.0       0.89      0.84      0.86        92\n",
      "\n",
      "    accuracy                           0.86       184\n",
      "   macro avg       0.87      0.86      0.86       184\n",
      "weighted avg       0.87      0.86      0.86       184\n",
      "\n",
      "Accuracy: 0.8641304347826086\n",
      "MCC = 0.7293387850622899\n",
      "AUC = 0.8641304347826086\n",
      "              precision    recall  f1-score   support\n",
      "\n",
      "         0.0       0.84      0.88      0.86       184\n",
      "         1.0       0.87      0.83      0.85       183\n",
      "\n",
      "    accuracy                           0.85       367\n",
      "   macro avg       0.85      0.85      0.85       367\n",
      "weighted avg       0.85      0.85      0.85       367\n",
      "\n",
      "Accuracy: 0.8528610354223434\n",
      "MCC = 0.7067267096157344\n",
      "AUC = 0.8527856973152768\n"
     ]
    }
   ],
   "source": [
    "XGBc_y_predicted_20 = XGB_class(X_train_20,X_test_20,y_train_20,y_test_20,0,0,0,0,0,0,0,simple=True)\n",
    "XGBc_y_predicted_40 = XGB_class(X_train_40,X_test_40,y_train_40,y_test_40,0,0,0,0,0,0,0,simple=True)"
   ]
  },
  {
   "cell_type": "markdown",
   "id": "5c8885d3",
   "metadata": {},
   "source": [
    "### SVM for binary class"
   ]
  },
  {
   "cell_type": "code",
   "execution_count": 32,
   "id": "d2de33db",
   "metadata": {},
   "outputs": [],
   "source": [
    "def SVMc(X_train,X_test,y_train,y_test):\n",
    "    clf = SVC(kernel='linear',probability=True) \n",
    "    clf.fit(X_train, y_train) \n",
    "    preds = clf.predict(X_test)\n",
    "    sSVM_y_predicted = clf.predict_proba(X_test)[:,1]\n",
    "    \n",
    "    print(classification_report(y_test, preds))\n",
    "    print(\"Accuracy:\", accuracy_score(y_test, preds))\n",
    "    print(\"MCC =\",matthews_corrcoef(y_test, preds))\n",
    "    print(\"AUC =\",metrics.roc_auc_score(y_test, preds))\n",
    "    \n",
    "    return sSVM_y_predicted"
   ]
  },
  {
   "cell_type": "code",
   "execution_count": 33,
   "id": "98c7d574",
   "metadata": {},
   "outputs": [],
   "source": [
    "# print('Using 20% as test subset:')\n",
    "# SVM_y_predicted_20 = SVMc(X_train_20,X_test_20,y_train_20,y_test_20)\n",
    "# print('Using 40% as test subset:')\n",
    "# SVM_y_predicted_40 = SVMc(X_train_40,X_test_40,y_train_40,y_test_40)"
   ]
  },
  {
   "cell_type": "markdown",
   "id": "6df80d3c",
   "metadata": {},
   "source": [
    "### Random Forest classifier for binary class"
   ]
  },
  {
   "cell_type": "code",
   "execution_count": 34,
   "id": "ef7c64ae",
   "metadata": {},
   "outputs": [],
   "source": [
    "def RFc(X_train,X_test,y_train,y_test):\n",
    "    model = RandomForestClassifier().fit(X_train,y_train)\n",
    "    preds = model.predict(X_test)\n",
    "    sRFC_y_predicted = model.predict_proba(X_test)[:,1]\n",
    "    \n",
    "    print(classification_report(y_test, preds))\n",
    "    print(\"Accuracy:\", accuracy_score(y_test, preds))\n",
    "    print(\"MCC =\",matthews_corrcoef(y_test, preds))\n",
    "    print(\"AUC =\",metrics.roc_auc_score(y_test, preds))\n",
    "    \n",
    "    return sRFC_y_predicted"
   ]
  },
  {
   "cell_type": "code",
   "execution_count": 35,
   "id": "a09f5463",
   "metadata": {},
   "outputs": [
    {
     "name": "stdout",
     "output_type": "stream",
     "text": [
      "Using 20% as test subset:\n",
      "              precision    recall  f1-score   support\n",
      "\n",
      "         0.0       0.85      0.86      0.85        92\n",
      "         1.0       0.86      0.85      0.85        92\n",
      "\n",
      "    accuracy                           0.85       184\n",
      "   macro avg       0.85      0.85      0.85       184\n",
      "weighted avg       0.85      0.85      0.85       184\n",
      "\n",
      "Accuracy: 0.8532608695652174\n",
      "MCC = 0.7065634796993502\n",
      "AUC = 0.8532608695652174\n",
      "Using 40% as test subset:\n",
      "              precision    recall  f1-score   support\n",
      "\n",
      "         0.0       0.83      0.91      0.87       184\n",
      "         1.0       0.90      0.81      0.85       183\n",
      "\n",
      "    accuracy                           0.86       367\n",
      "   macro avg       0.86      0.86      0.86       367\n",
      "weighted avg       0.86      0.86      0.86       367\n",
      "\n",
      "Accuracy: 0.8583106267029973\n",
      "MCC = 0.7200177377406615\n",
      "AUC = 0.8581759325255406\n"
     ]
    }
   ],
   "source": [
    "print('Using 20% as test subset:')\n",
    "RFc_y_predicted_20 = RFc(X_train_20,X_test_20,y_train_20,y_test_20)\n",
    "print('Using 40% as test subset:')\n",
    "RFc_y_predicted_40 = RFc(X_train_40,X_test_40,y_train_40,y_test_40)"
   ]
  },
  {
   "cell_type": "markdown",
   "id": "3f40b2a8",
   "metadata": {},
   "source": [
    "### Logistic Regressor for binary class"
   ]
  },
  {
   "cell_type": "code",
   "execution_count": 36,
   "id": "7b88a5a0",
   "metadata": {},
   "outputs": [],
   "source": [
    "def LR(X_train,X_test,y_train,y_test):\n",
    "    model = LogisticRegression(random_state=0).fit(X_train,y_train)\n",
    "    preds = model.predict(X_test)\n",
    "    sLR_y_predicted = model.predict_proba(X_test)[:,1]\n",
    "    \n",
    "    print(classification_report(y_test, preds))\n",
    "    print(\"Accuracy:\", accuracy_score(y_test, preds))\n",
    "    print(\"MCC =\",matthews_corrcoef(y_test, preds))\n",
    "    print(\"AUC =\",metrics.roc_auc_score(y_test, preds))\n",
    "    \n",
    "    return sLR_y_predicted"
   ]
  },
  {
   "cell_type": "code",
   "execution_count": 37,
   "id": "c49ed00c",
   "metadata": {},
   "outputs": [
    {
     "name": "stdout",
     "output_type": "stream",
     "text": [
      "Using 20% as test subset:\n",
      "              precision    recall  f1-score   support\n",
      "\n",
      "         0.0       0.81      0.84      0.82        92\n",
      "         1.0       0.83      0.80      0.82        92\n",
      "\n",
      "    accuracy                           0.82       184\n",
      "   macro avg       0.82      0.82      0.82       184\n",
      "weighted avg       0.82      0.82      0.82       184\n",
      "\n",
      "Accuracy: 0.8206521739130435\n",
      "MCC = 0.6416455781041824\n",
      "AUC = 0.8206521739130435\n",
      "Using 40% as test subset:\n",
      "              precision    recall  f1-score   support\n",
      "\n",
      "         0.0       0.78      0.83      0.80       184\n",
      "         1.0       0.81      0.77      0.79       183\n",
      "\n",
      "    accuracy                           0.80       367\n",
      "   macro avg       0.80      0.80      0.80       367\n",
      "weighted avg       0.80      0.80      0.80       367\n",
      "\n",
      "Accuracy: 0.7956403269754768\n",
      "MCC = 0.5922763311724212\n",
      "AUC = 0.7955571394630554\n"
     ]
    },
    {
     "name": "stderr",
     "output_type": "stream",
     "text": [
      "C:\\Users\\marti\\AppData\\Local\\Packages\\PythonSoftwareFoundation.Python.3.10_qbz5n2kfra8p0\\LocalCache\\local-packages\\Python310\\site-packages\\sklearn\\linear_model\\_logistic.py:458: ConvergenceWarning: lbfgs failed to converge (status=1):\n",
      "STOP: TOTAL NO. of ITERATIONS REACHED LIMIT.\n",
      "\n",
      "Increase the number of iterations (max_iter) or scale the data as shown in:\n",
      "    https://scikit-learn.org/stable/modules/preprocessing.html\n",
      "Please also refer to the documentation for alternative solver options:\n",
      "    https://scikit-learn.org/stable/modules/linear_model.html#logistic-regression\n",
      "  n_iter_i = _check_optimize_result(\n"
     ]
    }
   ],
   "source": [
    "print('Using 20% as test subset:')\n",
    "LR_y_predicted_20 = LR(X_train_20,X_test_20,y_train_20,y_test_20)\n",
    "print('Using 40% as test subset:')\n",
    "LR_y_predicted_40 = LR(X_train_40,X_test_40,y_train_40,y_test_40)"
   ]
  },
  {
   "cell_type": "markdown",
   "id": "7b0f8f54",
   "metadata": {},
   "source": [
    "### Plot AUC-ROC Curve"
   ]
  },
  {
   "cell_type": "code",
   "execution_count": 38,
   "id": "b8d6c1c1",
   "metadata": {},
   "outputs": [],
   "source": [
    "def roc(y_tests,y_predicted,models_name,title):  \n",
    "    if len(y_predicted)>2:  \n",
    "        #there are 4 diff colors in max\n",
    "        colors = [\"red\", \"blue\", \"green\", \"orange\"]\n",
    "            \n",
    "        for i in range(int(len(y_predicted)/2)):\n",
    "            fpr, tpr, _ = metrics.roc_curve(y_tests[i],  y_predicted[i])\n",
    "            #create ROC curve\n",
    "            plt.plot(fpr, tpr, linestyle='-',color=colors[i])\n",
    "\n",
    "        counter=0\n",
    "        for i in range(int(len(y_predicted)/2),int(len(y_predicted))):\n",
    "            fpr, tpr, _ = metrics.roc_curve(y_tests[i],  y_predicted[i])\n",
    "            #create ROC curve\n",
    "            plt.plot(fpr, tpr, linestyle='--',color=colors[counter])\n",
    "            counter+=1\n",
    "    \n",
    "    else:\n",
    "        for i in range(int(len(y_predicted))):\n",
    "            fpr, tpr, _ = metrics.roc_curve(y_tests[i],  y_predicted[i])\n",
    "            #create ROC curve\n",
    "            plt.plot(fpr, tpr, linestyle='-')\n",
    "    \n",
    "    plt.plot([0, 1], [0, 1], 'k--')\n",
    "    plt.xlim([-0.05, 1.0])\n",
    "    plt.ylim([0.0, 1.05])\n",
    "    plt.legend(models_name)\n",
    "    plt.ylabel('True Positive Rate')\n",
    "    plt.xlabel('False Positive Rate')\n",
    "    plt.title(title)\n",
    "    plt.show()"
   ]
  },
  {
   "cell_type": "code",
   "execution_count": 39,
   "id": "53ae586c",
   "metadata": {},
   "outputs": [
    {
     "name": "stderr",
     "output_type": "stream",
     "text": [
      "C:\\Users\\marti\\AppData\\Local\\Temp\\ipykernel_23828\\1674596823.py:1: VisibleDeprecationWarning: Creating an ndarray from ragged nested sequences (which is a list-or-tuple of lists-or-tuples-or ndarrays with different lengths or shapes) is deprecated. If you meant to do this, you must specify 'dtype=object' when creating the ndarray.\n",
      "  y_tests = np.array([y_test_20,y_test_20,y_test_20,y_test_40,y_test_40,y_test_40])\n",
      "C:\\Users\\marti\\AppData\\Local\\Temp\\ipykernel_23828\\1674596823.py:2: VisibleDeprecationWarning: Creating an ndarray from ragged nested sequences (which is a list-or-tuple of lists-or-tuples-or ndarrays with different lengths or shapes) is deprecated. If you meant to do this, you must specify 'dtype=object' when creating the ndarray.\n",
      "  y_preds = np.array([XGBc_y_predicted_20,RFc_y_predicted_20,LR_y_predicted_20,XGBc_y_predicted_40,RFc_y_predicted_40,LR_y_predicted_40])\n"
     ]
    },
    {
     "data": {
      "image/png": "[encoded data removed]",
      "text/plain": [
       "<Figure size 640x480 with 1 Axes>"
      ]
     },
     "metadata": {},
     "output_type": "display_data"
    }
   ],
   "source": [
    "y_tests = np.array([y_test_20,y_test_20,y_test_20,y_test_40,y_test_40,y_test_40])\n",
    "y_preds = np.array([XGBc_y_predicted_20,RFc_y_predicted_20,LR_y_predicted_20,XGBc_y_predicted_40,RFc_y_predicted_40,LR_y_predicted_40])\n",
    "models_name=np.array(['XGBc 20%','RFC 20%','LR 20%','XGBc 40%','RFC 40%','LR 40%'])\n",
    "title = 'ROC curve of simple models with split 80/20 and 60/40'\n",
    "roc(y_tests,y_preds,models_name,title)"
   ]
  }
 ],
 "metadata": {
  "kernelspec": {
   "display_name": "Python 3",
   "language": "python",
   "name": "python3"
  },
  "language_info": {
   "codemirror_mode": {
    "name": "ipython",
    "version": 3
   },
   "file_extension": ".py",
   "mimetype": "text/x-python",
   "name": "python",
   "nbconvert_exporter": "python",
   "pygments_lexer": "ipython3",
   "version": "3.10.9 (tags/v3.10.9:1dd9be6, Dec  6 2022, 20:01:21) [MSC v.1934 64 bit (AMD64)]"
  },
  "vscode": {
   "interpreter": {
    "hash": "951acce4ee2d6eb9fe3565b96e466293146d7f1585a7e067fb08e2ff6ef89eb0"
   }
  }
 },
 "nbformat": 4,
 "nbformat_minor": 5
}
