{
 "cells": [
  {
   "cell_type": "markdown",
   "metadata": {
    "pycharm": {
     "name": "#%% md\n"
    }
   },
   "source": [
    "# Notebook\n",
    "This is just a way of making it easier to go through the audio features, and share any work that I've been doing. This is done by Nicolas\n",
    "\n",
    "This will probably be a bit messy, but it exists and will be commented and that's what matters"
   ]
  },
  {
   "cell_type": "code",
   "execution_count": 1,
   "metadata": {
    "pycharm": {
     "name": "#%%\n"
    }
   },
   "outputs": [
    {
     "name": "stdout",
     "output_type": "stream",
     "text": [
      "Requirement already satisfied: sentence-transformers in e:\\projects\\stefkaptein\\social-signal-processing-project\\venv\\lib\\site-packages (2.2.2)\n",
      "Requirement already satisfied: numpy in e:\\projects\\stefkaptein\\social-signal-processing-project\\venv\\lib\\site-packages (from sentence-transformers) (1.23.5)\n",
      "Requirement already satisfied: sentencepiece in e:\\projects\\stefkaptein\\social-signal-processing-project\\venv\\lib\\site-packages (from sentence-transformers) (0.1.97)\n",
      "Requirement already satisfied: nltk in e:\\projects\\stefkaptein\\social-signal-processing-project\\venv\\lib\\site-packages (from sentence-transformers) (3.7)\n",
      "Requirement already satisfied: scikit-learn in e:\\projects\\stefkaptein\\social-signal-processing-project\\venv\\lib\\site-packages (from sentence-transformers) (1.2.0)\n",
      "Requirement already satisfied: tqdm in e:\\projects\\stefkaptein\\social-signal-processing-project\\venv\\lib\\site-packages (from sentence-transformers) (4.64.1)\n",
      "Requirement already satisfied: scipy in e:\\projects\\stefkaptein\\social-signal-processing-project\\venv\\lib\\site-packages (from sentence-transformers) (1.9.3)\n",
      "Requirement already satisfied: torch>=1.6.0 in e:\\projects\\stefkaptein\\social-signal-processing-project\\venv\\lib\\site-packages (from sentence-transformers) (1.13.0)\n",
      "Requirement already satisfied: transformers<5.0.0,>=4.6.0 in e:\\projects\\stefkaptein\\social-signal-processing-project\\venv\\lib\\site-packages (from sentence-transformers) (4.25.1)\n",
      "Requirement already satisfied: torchvision in e:\\projects\\stefkaptein\\social-signal-processing-project\\venv\\lib\\site-packages (from sentence-transformers) (0.14.0)\n",
      "Requirement already satisfied: huggingface-hub>=0.4.0 in e:\\projects\\stefkaptein\\social-signal-processing-project\\venv\\lib\\site-packages (from sentence-transformers) (0.11.1)\n",
      "Requirement already satisfied: filelock in e:\\projects\\stefkaptein\\social-signal-processing-project\\venv\\lib\\site-packages (from huggingface-hub>=0.4.0->sentence-transformers) (3.8.2)\n",
      "Requirement already satisfied: typing-extensions>=3.7.4.3 in e:\\projects\\stefkaptein\\social-signal-processing-project\\venv\\lib\\site-packages (from huggingface-hub>=0.4.0->sentence-transformers) (4.4.0)\n",
      "Requirement already satisfied: packaging>=20.9 in e:\\projects\\stefkaptein\\social-signal-processing-project\\venv\\lib\\site-packages (from huggingface-hub>=0.4.0->sentence-transformers) (22.0)\n",
      "Requirement already satisfied: pyyaml>=5.1 in e:\\projects\\stefkaptein\\social-signal-processing-project\\venv\\lib\\site-packages (from huggingface-hub>=0.4.0->sentence-transformers) (6.0)\n",
      "Requirement already satisfied: requests in e:\\projects\\stefkaptein\\social-signal-processing-project\\venv\\lib\\site-packages (from huggingface-hub>=0.4.0->sentence-transformers) (2.28.1)\n",
      "Requirement already satisfied: regex!=2019.12.17 in e:\\projects\\stefkaptein\\social-signal-processing-project\\venv\\lib\\site-packages (from transformers<5.0.0,>=4.6.0->sentence-transformers) (2022.10.31)\n",
      "Requirement already satisfied: tokenizers!=0.11.3,<0.14,>=0.11.1 in e:\\projects\\stefkaptein\\social-signal-processing-project\\venv\\lib\\site-packages (from transformers<5.0.0,>=4.6.0->sentence-transformers) (0.13.2)\n",
      "Requirement already satisfied: colorama in e:\\projects\\stefkaptein\\social-signal-processing-project\\venv\\lib\\site-packages (from tqdm->sentence-transformers) (0.4.6)\n",
      "Requirement already satisfied: click in e:\\projects\\stefkaptein\\social-signal-processing-project\\venv\\lib\\site-packages (from nltk->sentence-transformers) (8.1.3)\n",
      "Requirement already satisfied: joblib in e:\\projects\\stefkaptein\\social-signal-processing-project\\venv\\lib\\site-packages (from nltk->sentence-transformers) (1.2.0)\n",
      "Requirement already satisfied: threadpoolctl>=2.0.0 in e:\\projects\\stefkaptein\\social-signal-processing-project\\venv\\lib\\site-packages (from scikit-learn->sentence-transformers) (3.1.0)\n",
      "Requirement already satisfied: pillow!=8.3.*,>=5.3.0 in e:\\projects\\stefkaptein\\social-signal-processing-project\\venv\\lib\\site-packages (from torchvision->sentence-transformers) (9.3.0)\n",
      "Requirement already satisfied: idna<4,>=2.5 in e:\\projects\\stefkaptein\\social-signal-processing-project\\venv\\lib\\site-packages (from requests->huggingface-hub>=0.4.0->sentence-transformers) (3.4)\n",
      "Requirement already satisfied: certifi>=2017.4.17 in e:\\projects\\stefkaptein\\social-signal-processing-project\\venv\\lib\\site-packages (from requests->huggingface-hub>=0.4.0->sentence-transformers) (2022.12.7)\n",
      "Requirement already satisfied: urllib3<1.27,>=1.21.1 in e:\\projects\\stefkaptein\\social-signal-processing-project\\venv\\lib\\site-packages (from requests->huggingface-hub>=0.4.0->sentence-transformers) (1.26.13)\n",
      "Requirement already satisfied: charset-normalizer<3,>=2 in e:\\projects\\stefkaptein\\social-signal-processing-project\\venv\\lib\\site-packages (from requests->huggingface-hub>=0.4.0->sentence-transformers) (2.1.1)\n",
      "Note: you may need to restart the kernel to use updated packages.\n"
     ]
    },
    {
     "name": "stderr",
     "output_type": "stream",
     "text": [
      "WARNING: You are using pip version 21.3.1; however, version 22.3.1 is available.\n",
      "You should consider upgrading via the 'E:\\Projects\\StefKaptein\\social-signal-processing-project\\venv\\Scripts\\python.exe -m pip install --upgrade pip' command.\n"
     ]
    }
   ],
   "source": [
    "%pip install -U sentence-transformers"
   ]
  },
  {
   "cell_type": "code",
   "execution_count": 2,
   "metadata": {
    "pycharm": {
     "name": "#%%\n"
    }
   },
   "outputs": [
    {
     "data": {
      "text/plain": "   Unnamed: 0             segID  StartTimeA  EndTimeA  StartTimeB  EndTimeB  \\\n0           0  Bed002.segment.1       5.790     6.200       6.393     7.043   \n1           1  Bed002.segment.2       6.393     7.043      10.383    12.373   \n2           2  Bed002.segment.3      10.383    12.373      12.573    13.723   \n3           3  Bed002.segment.4      12.573    13.723      12.822    14.542   \n4           4  Bed002.segment.5      12.822    14.542      14.655    16.180   \n\n                                            f0_means  \\\n0                             ['1.64607', '0.59155']   \n1                                        ['1.37410']   \n2  ['0.55294', '1.02994', '0.90475', '0.59609', '...   \n3       ['0.00000', '1.10862', '1.07281', '0.87544']   \n4       ['0.35041', '1.03134', '0.33097', '0.85372']   \n\n                                             f0_stds  pause  speakerChange  \\\n0                 ['4.02422466667', '50.9371406173']  0.193           True   \n1                                  ['11.8302375346']  3.340          False   \n2  ['45.4319839339', '24.0814492188', '35.0004665...  0.200          False   \n3  ['0.0', '2.2370073', '0.557957183673', '40.790... -0.901           True   \n4  ['37.9096119852', '42.0439837127', '35.8062448...  0.113           True   \n\n                 id      similarity  \n0  Bed002.segment.1  [[0.80745196]]  \n1  Bed002.segment.2   [[0.5492672]]  \n2  Bed002.segment.3  [[0.74731004]]  \n3  Bed002.segment.4  [[0.46412408]]  \n4  Bed002.segment.5  [[0.44520012]]  ",
      "text/html": "<div>\n<style scoped>\n    .dataframe tbody tr th:only-of-type {\n        vertical-align: middle;\n    }\n\n    .dataframe tbody tr th {\n        vertical-align: top;\n    }\n\n    .dataframe thead th {\n        text-align: right;\n    }\n</style>\n<table border=\"1\" class=\"dataframe\">\n  <thead>\n    <tr style=\"text-align: right;\">\n      <th></th>\n      <th>Unnamed: 0</th>\n      <th>segID</th>\n      <th>StartTimeA</th>\n      <th>EndTimeA</th>\n      <th>StartTimeB</th>\n      <th>EndTimeB</th>\n      <th>f0_means</th>\n      <th>f0_stds</th>\n      <th>pause</th>\n      <th>speakerChange</th>\n      <th>id</th>\n      <th>similarity</th>\n    </tr>\n  </thead>\n  <tbody>\n    <tr>\n      <th>0</th>\n      <td>0</td>\n      <td>Bed002.segment.1</td>\n      <td>5.790</td>\n      <td>6.200</td>\n      <td>6.393</td>\n      <td>7.043</td>\n      <td>['1.64607', '0.59155']</td>\n      <td>['4.02422466667', '50.9371406173']</td>\n      <td>0.193</td>\n      <td>True</td>\n      <td>Bed002.segment.1</td>\n      <td>[[0.80745196]]</td>\n    </tr>\n    <tr>\n      <th>1</th>\n      <td>1</td>\n      <td>Bed002.segment.2</td>\n      <td>6.393</td>\n      <td>7.043</td>\n      <td>10.383</td>\n      <td>12.373</td>\n      <td>['1.37410']</td>\n      <td>['11.8302375346']</td>\n      <td>3.340</td>\n      <td>False</td>\n      <td>Bed002.segment.2</td>\n      <td>[[0.5492672]]</td>\n    </tr>\n    <tr>\n      <th>2</th>\n      <td>2</td>\n      <td>Bed002.segment.3</td>\n      <td>10.383</td>\n      <td>12.373</td>\n      <td>12.573</td>\n      <td>13.723</td>\n      <td>['0.55294', '1.02994', '0.90475', '0.59609', '...</td>\n      <td>['45.4319839339', '24.0814492188', '35.0004665...</td>\n      <td>0.200</td>\n      <td>False</td>\n      <td>Bed002.segment.3</td>\n      <td>[[0.74731004]]</td>\n    </tr>\n    <tr>\n      <th>3</th>\n      <td>3</td>\n      <td>Bed002.segment.4</td>\n      <td>12.573</td>\n      <td>13.723</td>\n      <td>12.822</td>\n      <td>14.542</td>\n      <td>['0.00000', '1.10862', '1.07281', '0.87544']</td>\n      <td>['0.0', '2.2370073', '0.557957183673', '40.790...</td>\n      <td>-0.901</td>\n      <td>True</td>\n      <td>Bed002.segment.4</td>\n      <td>[[0.46412408]]</td>\n    </tr>\n    <tr>\n      <th>4</th>\n      <td>4</td>\n      <td>Bed002.segment.5</td>\n      <td>12.822</td>\n      <td>14.542</td>\n      <td>14.655</td>\n      <td>16.180</td>\n      <td>['0.35041', '1.03134', '0.33097', '0.85372']</td>\n      <td>['37.9096119852', '42.0439837127', '35.8062448...</td>\n      <td>0.113</td>\n      <td>True</td>\n      <td>Bed002.segment.5</td>\n      <td>[[0.44520012]]</td>\n    </tr>\n  </tbody>\n</table>\n</div>"
     },
     "execution_count": 2,
     "metadata": {},
     "output_type": "execute_result"
    }
   ],
   "source": [
    "import pandas as pd\n",
    "\n",
    "from text_features import get_sentence_similarity\n",
    "\n",
    "df = pd.read_csv(\"../out/Bed002_segments_final_sorted.csv\", sep=';')\n",
    "text_features = get_sentence_similarity(df, \"Text\")\n",
    "audio_features = pd.read_csv(\"../out/Bed002_audio_features_of_segments.csv\", sep=';')\n",
    "\n",
    "df_master = audio_features.merge(text_features, left_on='segID', right_on='id', how='inner')\n",
    "\n",
    "df_master.head()"
   ]
  },
  {
   "cell_type": "code",
   "execution_count": 2,
   "metadata": {
    "pycharm": {
     "name": "#%%\n"
    }
   },
   "outputs": [],
   "source": []
  }
 ],
 "metadata": {
  "kernelspec": {
   "display_name": "Python 3.9.13 ('base')",
   "language": "python",
   "name": "python3"
  },
  "language_info": {
   "codemirror_mode": {
    "name": "ipython",
    "version": 3
   },
   "file_extension": ".py",
   "mimetype": "text/x-python",
   "name": "python",
   "nbconvert_exporter": "python",
   "pygments_lexer": "ipython3",
   "version": "3.9.13"
  },
  "orig_nbformat": 4,
  "vscode": {
   "interpreter": {
    "hash": "5ab5dee595089440f593a29fdc0eb679c643899946f796002ebe6974f8c9a3de"
   }
  }
 },
 "nbformat": 4,
 "nbformat_minor": 2
}