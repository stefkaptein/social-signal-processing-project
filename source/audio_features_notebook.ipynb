{
 "cells": [
  {
   "cell_type": "markdown",
   "metadata": {
    "pycharm": {
     "name": "#%% md\n"
    }
   },
   "source": [
    "# Notebook\n",
    "This is just a way of making it easier to go through the audio features, and share any work that I've been doing. This is done by Nicolas\n",
    "\n",
    "This will probably be a bit messy, but it exists and will be commented and that's what matters"
   ]
  },
  {
   "cell_type": "code",
   "execution_count": 1,
   "metadata": {
    "pycharm": {
     "name": "#%%\n"
    }
   },
   "outputs": [
    {
     "name": "stdout",
     "output_type": "stream",
     "text": [
      "Requirement already satisfied: sentence-transformers in e:\\projects\\stefkaptein\\social-signal-processing-project\\venv\\lib\\site-packages (2.2.2)\n",
      "Requirement already satisfied: numpy in e:\\projects\\stefkaptein\\social-signal-processing-project\\venv\\lib\\site-packages (from sentence-transformers) (1.23.5)\n",
      "Requirement already satisfied: sentencepiece in e:\\projects\\stefkaptein\\social-signal-processing-project\\venv\\lib\\site-packages (from sentence-transformers) (0.1.97)\n",
      "Requirement already satisfied: nltk in e:\\projects\\stefkaptein\\social-signal-processing-project\\venv\\lib\\site-packages (from sentence-transformers) (3.7)\n",
      "Requirement already satisfied: scikit-learn in e:\\projects\\stefkaptein\\social-signal-processing-project\\venv\\lib\\site-packages (from sentence-transformers) (1.2.0)\n",
      "Requirement already satisfied: tqdm in e:\\projects\\stefkaptein\\social-signal-processing-project\\venv\\lib\\site-packages (from sentence-transformers) (4.64.1)\n",
      "Requirement already satisfied: scipy in e:\\projects\\stefkaptein\\social-signal-processing-project\\venv\\lib\\site-packages (from sentence-transformers) (1.9.3)\n",
      "Requirement already satisfied: torch>=1.6.0 in e:\\projects\\stefkaptein\\social-signal-processing-project\\venv\\lib\\site-packages (from sentence-transformers) (1.13.0)\n",
      "Requirement already satisfied: transformers<5.0.0,>=4.6.0 in e:\\projects\\stefkaptein\\social-signal-processing-project\\venv\\lib\\site-packages (from sentence-transformers) (4.25.1)\n",
      "Requirement already satisfied: torchvision in e:\\projects\\stefkaptein\\social-signal-processing-project\\venv\\lib\\site-packages (from sentence-transformers) (0.14.0)\n",
      "Requirement already satisfied: huggingface-hub>=0.4.0 in e:\\projects\\stefkaptein\\social-signal-processing-project\\venv\\lib\\site-packages (from sentence-transformers) (0.11.1)\n",
      "Requirement already satisfied: filelock in e:\\projects\\stefkaptein\\social-signal-processing-project\\venv\\lib\\site-packages (from huggingface-hub>=0.4.0->sentence-transformers) (3.8.2)\n",
      "Requirement already satisfied: typing-extensions>=3.7.4.3 in e:\\projects\\stefkaptein\\social-signal-processing-project\\venv\\lib\\site-packages (from huggingface-hub>=0.4.0->sentence-transformers) (4.4.0)\n",
      "Requirement already satisfied: packaging>=20.9 in e:\\projects\\stefkaptein\\social-signal-processing-project\\venv\\lib\\site-packages (from huggingface-hub>=0.4.0->sentence-transformers) (22.0)\n",
      "Requirement already satisfied: pyyaml>=5.1 in e:\\projects\\stefkaptein\\social-signal-processing-project\\venv\\lib\\site-packages (from huggingface-hub>=0.4.0->sentence-transformers) (6.0)\n",
      "Requirement already satisfied: requests in e:\\projects\\stefkaptein\\social-signal-processing-project\\venv\\lib\\site-packages (from huggingface-hub>=0.4.0->sentence-transformers) (2.28.1)\n",
      "Requirement already satisfied: regex!=2019.12.17 in e:\\projects\\stefkaptein\\social-signal-processing-project\\venv\\lib\\site-packages (from transformers<5.0.0,>=4.6.0->sentence-transformers) (2022.10.31)\n",
      "Requirement already satisfied: tokenizers!=0.11.3,<0.14,>=0.11.1 in e:\\projects\\stefkaptein\\social-signal-processing-project\\venv\\lib\\site-packages (from transformers<5.0.0,>=4.6.0->sentence-transformers) (0.13.2)\n",
      "Requirement already satisfied: colorama in e:\\projects\\stefkaptein\\social-signal-processing-project\\venv\\lib\\site-packages (from tqdm->sentence-transformers) (0.4.6)\n",
      "Requirement already satisfied: click in e:\\projects\\stefkaptein\\social-signal-processing-project\\venv\\lib\\site-packages (from nltk->sentence-transformers) (8.1.3)\n",
      "Requirement already satisfied: joblib in e:\\projects\\stefkaptein\\social-signal-processing-project\\venv\\lib\\site-packages (from nltk->sentence-transformers) (1.2.0)\n",
      "Requirement already satisfied: threadpoolctl>=2.0.0 in e:\\projects\\stefkaptein\\social-signal-processing-project\\venv\\lib\\site-packages (from scikit-learn->sentence-transformers) (3.1.0)\n",
      "Requirement already satisfied: pillow!=8.3.*,>=5.3.0 in e:\\projects\\stefkaptein\\social-signal-processing-project\\venv\\lib\\site-packages (from torchvision->sentence-transformers) (9.3.0)\n",
      "Requirement already satisfied: idna<4,>=2.5 in e:\\projects\\stefkaptein\\social-signal-processing-project\\venv\\lib\\site-packages (from requests->huggingface-hub>=0.4.0->sentence-transformers) (3.4)\n",
      "Requirement already satisfied: certifi>=2017.4.17 in e:\\projects\\stefkaptein\\social-signal-processing-project\\venv\\lib\\site-packages (from requests->huggingface-hub>=0.4.0->sentence-transformers) (2022.12.7)\n",
      "Requirement already satisfied: urllib3<1.27,>=1.21.1 in e:\\projects\\stefkaptein\\social-signal-processing-project\\venv\\lib\\site-packages (from requests->huggingface-hub>=0.4.0->sentence-transformers) (1.26.13)\n",
      "Requirement already satisfied: charset-normalizer<3,>=2 in e:\\projects\\stefkaptein\\social-signal-processing-project\\venv\\lib\\site-packages (from requests->huggingface-hub>=0.4.0->sentence-transformers) (2.1.1)\n",
      "Note: you may need to restart the kernel to use updated packages.\n"
     ]
    },
    {
     "name": "stderr",
     "output_type": "stream",
     "text": [
      "WARNING: You are using pip version 21.3.1; however, version 22.3.1 is available.\n",
      "You should consider upgrading via the 'E:\\Projects\\StefKaptein\\social-signal-processing-project\\venv\\Scripts\\python.exe -m pip install --upgrade pip' command.\n"
     ]
    }
   ],
   "source": [
    "%pip install -U sentence-transformers"
   ]
  },
  {
   "cell_type": "code",
   "execution_count": 40,
   "metadata": {
    "pycharm": {
     "name": "#%%\n"
    }
   },
   "outputs": [
    {
     "data": {
      "text/html": [
       "<div>\n",
       "<style scoped>\n",
       "    .dataframe tbody tr th:only-of-type {\n",
       "        vertical-align: middle;\n",
       "    }\n",
       "\n",
       "    .dataframe tbody tr th {\n",
       "        vertical-align: top;\n",
       "    }\n",
       "\n",
       "    .dataframe thead th {\n",
       "        text-align: right;\n",
       "    }\n",
       "</style>\n",
       "<table border=\"1\" class=\"dataframe\">\n",
       "  <thead>\n",
       "    <tr style=\"text-align: right;\">\n",
       "      <th></th>\n",
       "      <th>segID</th>\n",
       "      <th>StartTimeA</th>\n",
       "      <th>EndTimeA</th>\n",
       "      <th>StartTimeB</th>\n",
       "      <th>EndTimeB</th>\n",
       "      <th>f0_means</th>\n",
       "      <th>f0_stds</th>\n",
       "      <th>pause</th>\n",
       "      <th>speakerChange</th>\n",
       "      <th>similarity</th>\n",
       "      <th>boundary</th>\n",
       "    </tr>\n",
       "  </thead>\n",
       "  <tbody>\n",
       "    <tr>\n",
       "      <th>0</th>\n",
       "      <td>Bed002.segment.1</td>\n",
       "      <td>5.790</td>\n",
       "      <td>6.200</td>\n",
       "      <td>6.393</td>\n",
       "      <td>7.043</td>\n",
       "      <td>['1.64607', '0.59155']</td>\n",
       "      <td>['4.02422466667', '50.9371406173']</td>\n",
       "      <td>0.193</td>\n",
       "      <td>True</td>\n",
       "      <td>[[0.80745196]]</td>\n",
       "      <td>0.0</td>\n",
       "    </tr>\n",
       "    <tr>\n",
       "      <th>1</th>\n",
       "      <td>Bed002.segment.2</td>\n",
       "      <td>6.393</td>\n",
       "      <td>7.043</td>\n",
       "      <td>10.383</td>\n",
       "      <td>12.373</td>\n",
       "      <td>['1.37410']</td>\n",
       "      <td>['11.8302375346']</td>\n",
       "      <td>3.340</td>\n",
       "      <td>False</td>\n",
       "      <td>[[0.54926735]]</td>\n",
       "      <td>0.0</td>\n",
       "    </tr>\n",
       "    <tr>\n",
       "      <th>2</th>\n",
       "      <td>Bed002.segment.3</td>\n",
       "      <td>10.383</td>\n",
       "      <td>12.373</td>\n",
       "      <td>12.573</td>\n",
       "      <td>13.723</td>\n",
       "      <td>['0.55294', '1.02994', '0.90475', '0.59609', '...</td>\n",
       "      <td>['45.4319839339', '24.0814492188', '35.0004665...</td>\n",
       "      <td>0.200</td>\n",
       "      <td>False</td>\n",
       "      <td>[[0.7473101]]</td>\n",
       "      <td>0.0</td>\n",
       "    </tr>\n",
       "    <tr>\n",
       "      <th>3</th>\n",
       "      <td>Bed002.segment.4</td>\n",
       "      <td>12.573</td>\n",
       "      <td>13.723</td>\n",
       "      <td>12.822</td>\n",
       "      <td>14.542</td>\n",
       "      <td>['0.00000', '1.10862', '1.07281', '0.87544']</td>\n",
       "      <td>['0.0', '2.2370073', '0.557957183673', '40.790...</td>\n",
       "      <td>-0.901</td>\n",
       "      <td>True</td>\n",
       "      <td>[[0.4641241]]</td>\n",
       "      <td>0.0</td>\n",
       "    </tr>\n",
       "    <tr>\n",
       "      <th>4</th>\n",
       "      <td>Bed002.segment.5</td>\n",
       "      <td>12.822</td>\n",
       "      <td>14.542</td>\n",
       "      <td>14.655</td>\n",
       "      <td>16.180</td>\n",
       "      <td>['0.35041', '1.03134', '0.33097', '0.85372']</td>\n",
       "      <td>['37.9096119852', '42.0439837127', '35.8062448...</td>\n",
       "      <td>0.113</td>\n",
       "      <td>True</td>\n",
       "      <td>[[0.44520015]]</td>\n",
       "      <td>0.0</td>\n",
       "    </tr>\n",
       "  </tbody>\n",
       "</table>\n",
       "</div>"
      ],
      "text/plain": [
       "              segID  StartTimeA  EndTimeA  StartTimeB  EndTimeB  \\\n",
       "0  Bed002.segment.1       5.790     6.200       6.393     7.043   \n",
       "1  Bed002.segment.2       6.393     7.043      10.383    12.373   \n",
       "2  Bed002.segment.3      10.383    12.373      12.573    13.723   \n",
       "3  Bed002.segment.4      12.573    13.723      12.822    14.542   \n",
       "4  Bed002.segment.5      12.822    14.542      14.655    16.180   \n",
       "\n",
       "                                            f0_means  \\\n",
       "0                             ['1.64607', '0.59155']   \n",
       "1                                        ['1.37410']   \n",
       "2  ['0.55294', '1.02994', '0.90475', '0.59609', '...   \n",
       "3       ['0.00000', '1.10862', '1.07281', '0.87544']   \n",
       "4       ['0.35041', '1.03134', '0.33097', '0.85372']   \n",
       "\n",
       "                                             f0_stds  pause  speakerChange  \\\n",
       "0                 ['4.02422466667', '50.9371406173']  0.193           True   \n",
       "1                                  ['11.8302375346']  3.340          False   \n",
       "2  ['45.4319839339', '24.0814492188', '35.0004665...  0.200          False   \n",
       "3  ['0.0', '2.2370073', '0.557957183673', '40.790... -0.901           True   \n",
       "4  ['37.9096119852', '42.0439837127', '35.8062448...  0.113           True   \n",
       "\n",
       "       similarity  boundary  \n",
       "0  [[0.80745196]]       0.0  \n",
       "1  [[0.54926735]]       0.0  \n",
       "2   [[0.7473101]]       0.0  \n",
       "3   [[0.4641241]]       0.0  \n",
       "4  [[0.44520015]]       0.0  "
      ]
     },
     "execution_count": 40,
     "metadata": {},
     "output_type": "execute_result"
    }
   ],
   "source": [
    "import pandas as pd\n",
    "\n",
    "from text_features import get_sentence_similarity\n",
    "\n",
    "master_df = pd.read_csv(\"all_datasets.csv\", sep=';')\n",
    "\n",
    "master_df.head()"
   ]
  },
  {
   "cell_type": "code",
   "execution_count": 56,
   "metadata": {
    "pycharm": {
     "name": "#%%\n"
    }
   },
   "outputs": [],
   "source": [
    "# So, for starters I'll just do a pretty crappy classifier. Reading all of th datasets doesn't make sense, as it makes it confusing dealing with when one dataset ends and the next one starts...\n",
    "\n",
    "# So... regardless of what features we use, the classifier should use something as follows:\n",
    "#. Transform each pair of rows into one row, to make it easier to feed\n",
    "#. The classifier will be true if the previous is 1 and the next is 0. Because that's how it was formatted\n",
    "\n",
    "def transform_rows(dataframe: pd.DataFrame, features: list):\n",
    "    \"\"\"Receives the original dataframe, loops through all of the rows and transforms them to\n",
    "    be valid for a generic classifier.\n",
    "\n",
    "    Method assumes that the boundary column always exists. When the value is a 1, that means\n",
    "    it's the end of the topic. Which is the important part for the topic segmentation.\n",
    "\n",
    "    Method automatically adds boundary to the list of features, because it should always be used\n",
    "\n",
    "    :param dataframe: Row dataframe that contains all of the information that will be processed\n",
    "    :param features: The columns that will be kept of the dataframe. Assumed to be list like that contains\n",
    "    the titles of any features that are to be kept. In case further transformation is required,\n",
    "    it will be done externally. Boundary is not included in this list\n",
    "\n",
    "    :returns Transformed dataframe that already contains the relevant columns. Each feature can\n",
    "    \"\"\"\n",
    "\n",
    "    # I will add boundary to the list afterwards\n",
    "    features.append('boundary')\n",
    "\n",
    "    filtered_df = dataframe[features]\n",
    "\n",
    "    temp_df = pd.concat([filtered_df.add_suffix('1'), filtered_df.shift(-1).add_suffix('2')], axis=1)\n",
    "\n",
    "    # Drop the last entry, as it'll be comparing a row with nothing. Which isn't particularly helpful\n",
    "    temp_df.drop(temp_df.tail(1).index,inplace=True)\n",
    "\n",
    "    # Now the last step is just to do a check for whether it is a boundary set of rows, or not.\n",
    "    #. And to remove the boundary column as well.\n",
    "    boundary = (temp_df['boundary1'] == 1.0) & (temp_df['boundary2'] == 0.0)\n",
    "\n",
    "    temp_df.drop(['boundary1', 'boundary2'], axis=1, inplace=True)\n",
    "    temp_df['boundary'] = boundary\n",
    "\n",
    "    return temp_df"
   ]
  },
  {
   "cell_type": "code",
   "execution_count": 58,
   "metadata": {
    "collapsed": false,
    "pycharm": {
     "name": "#%%\n"
    }
   },
   "outputs": [
    {
     "data": {
      "text/html": [
       "<div>\n",
       "<style scoped>\n",
       "    .dataframe tbody tr th:only-of-type {\n",
       "        vertical-align: middle;\n",
       "    }\n",
       "\n",
       "    .dataframe tbody tr th {\n",
       "        vertical-align: top;\n",
       "    }\n",
       "\n",
       "    .dataframe thead th {\n",
       "        text-align: right;\n",
       "    }\n",
       "</style>\n",
       "<table border=\"1\" class=\"dataframe\">\n",
       "  <thead>\n",
       "    <tr style=\"text-align: right;\">\n",
       "      <th></th>\n",
       "      <th>pause1</th>\n",
       "      <th>speakerChange1</th>\n",
       "      <th>pause2</th>\n",
       "      <th>speakerChange2</th>\n",
       "      <th>boundary</th>\n",
       "    </tr>\n",
       "  </thead>\n",
       "  <tbody>\n",
       "    <tr>\n",
       "      <th>0</th>\n",
       "      <td>0.193</td>\n",
       "      <td>True</td>\n",
       "      <td>3.340</td>\n",
       "      <td>False</td>\n",
       "      <td>False</td>\n",
       "    </tr>\n",
       "    <tr>\n",
       "      <th>1</th>\n",
       "      <td>3.340</td>\n",
       "      <td>False</td>\n",
       "      <td>0.200</td>\n",
       "      <td>False</td>\n",
       "      <td>False</td>\n",
       "    </tr>\n",
       "    <tr>\n",
       "      <th>2</th>\n",
       "      <td>0.200</td>\n",
       "      <td>False</td>\n",
       "      <td>-0.901</td>\n",
       "      <td>True</td>\n",
       "      <td>False</td>\n",
       "    </tr>\n",
       "    <tr>\n",
       "      <th>3</th>\n",
       "      <td>-0.901</td>\n",
       "      <td>True</td>\n",
       "      <td>0.113</td>\n",
       "      <td>True</td>\n",
       "      <td>False</td>\n",
       "    </tr>\n",
       "    <tr>\n",
       "      <th>4</th>\n",
       "      <td>0.113</td>\n",
       "      <td>True</td>\n",
       "      <td>0.986</td>\n",
       "      <td>True</td>\n",
       "      <td>False</td>\n",
       "    </tr>\n",
       "  </tbody>\n",
       "</table>\n",
       "</div>"
      ],
      "text/plain": [
       "   pause1  speakerChange1  pause2 speakerChange2  boundary\n",
       "0   0.193            True   3.340          False     False\n",
       "1   3.340           False   0.200          False     False\n",
       "2   0.200           False  -0.901           True     False\n",
       "3  -0.901            True   0.113           True     False\n",
       "4   0.113            True   0.986           True     False"
      ]
     },
     "execution_count": 58,
     "metadata": {},
     "output_type": "execute_result"
    }
   ],
   "source": [
    "to_transform_df = pd.read_csv('../results_merged/Bed002.csv', sep=';')\n",
    "temp_df = transform_rows(to_transform_df, ['pause', 'speakerChange'])\n",
    "temp_df.head()"
   ]
  },
  {
   "cell_type": "code",
   "execution_count": 59,
   "metadata": {
    "collapsed": false,
    "pycharm": {
     "name": "#%%\n"
    }
   },
   "outputs": [
    {
     "data": {
      "text/plain": [
       "13"
      ]
     },
     "execution_count": 59,
     "metadata": {},
     "output_type": "execute_result"
    }
   ],
   "source": [
    "# With the way the pause and the speaker change work, it just makes sense to drop the other two elements\n",
    "df = temp_df.drop(['pause2', 'speakerChange2'], axis=1)\n",
    "\n",
    "# This is gonna be a pretty crap classifier..."
   ]
  }
 ],
 "metadata": {
  "kernelspec": {
   "display_name": "Python 3",
   "language": "python",
   "name": "python3"
  },
  "language_info": {
   "codemirror_mode": {
    "name": "ipython",
    "version": 3
   },
   "file_extension": ".py",
   "mimetype": "text/x-python",
   "name": "python",
   "nbconvert_exporter": "python",
   "pygments_lexer": "ipython3",
   "version": "3.9.1 (tags/v3.9.1:1e5d33e, Dec  7 2020, 17:08:21) [MSC v.1927 64 bit (AMD64)]"
  },
  "orig_nbformat": 4,
  "vscode": {
   "interpreter": {
    "hash": "b5342fc930bcbdfed7de5125749622e716833b6df91acbead76ab8060ed63519"
   }
  }
 },
 "nbformat": 4,
 "nbformat_minor": 2
}
