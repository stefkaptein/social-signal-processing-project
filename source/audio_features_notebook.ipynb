{
 "cells": [
  {
   "cell_type": "markdown",
   "metadata": {},
   "source": [
    "# Notebook\n",
    "This is just a way of making it easier to go through the audio features, and share any work that I've been doing. This is done by Nicolas\n",
    "\n",
    "This will probably be a bit messy, but it exists and will be commented and that's what matters"
   ]
  },
  {
   "cell_type": "code",
   "execution_count": 1,
   "metadata": {
    "collapsed": false
   },
   "outputs": [],
   "source": [
    "import pandas as pd\n",
    "import numpy as np\n",
    "from model_trainer_and_tester import *\n",
    "\n",
    "# train_set = read_in_dataset([], 'train')\n",
    "#\n",
    "# test_set = read_in_dataset([], 'test')"
   ]
  },
  {
   "cell_type": "code",
   "execution_count": 2,
   "outputs": [],
   "source": [
    "from model.load_data import train_test_split, train_test_split_LSTM\n",
    "\n",
    "datasets = \"\"\"Bed002 Bed003 Bed004 Bed005 Bed006 Bed008 Bed009 Bed010 Bed011 Bed012 Bed013 Bed014 Bed015 Bed016 Bed017 Bmr001 Bmr002 Bmr005 Bmr007 Bmr009 Bmr010 Bmr011 Bmr012 Bmr013 Bmr014 Bmr018 Bmr019 Bmr021 Bmr022 Bmr024 Bmr025 Bmr026 Bmr027 Bmr029 Bns001 Bns002\"\"\".split(\" \")\n",
    "results_merged_path = \"../results_merged_fixedf0/\"\n",
    "\n",
    "batch_size = 64\n",
    "n_timesteps = 100\n",
    "train_ratio = 0.4 # ratio of meetings the model is trained on\n",
    "LSTM_units = 20\n",
    "\n",
    "#X_train_df, Y_train_df, X_test_df, Y_test_df= train_test_split_LSTM(datasets, results_merged_path, n_timesteps, split=train_ratio)"
   ],
   "metadata": {
    "collapsed": false
   }
  },
  {
   "cell_type": "code",
   "execution_count": 3,
   "outputs": [
    {
     "name": "stderr",
     "output_type": "stream",
     "text": [
      "D:\\Programming\\University\\social-signal-processing-project\\source\\model_trainer_and_tester.py:82: SettingWithCopyWarning: \n",
      "A value is trying to be set on a copy of a slice from a DataFrame\n",
      "\n",
      "See the caveats in the documentation: https://pandas.pydata.org/pandas-docs/stable/user_guide/indexing.html#returning-a-view-versus-a-copy\n",
      "  base_y.iloc[-1] = 1.0\n",
      "D:\\Programming\\University\\social-signal-processing-project\\source\\model_trainer_and_tester.py:95: SettingWithCopyWarning: \n",
      "A value is trying to be set on a copy of a slice from a DataFrame\n",
      "\n",
      "See the caveats in the documentation: https://pandas.pydata.org/pandas-docs/stable/user_guide/indexing.html#returning-a-view-versus-a-copy\n",
      "  temp_y.iloc[-1] = 1.0\n",
      "D:\\Programming\\University\\social-signal-processing-project\\source\\model_trainer_and_tester.py:95: SettingWithCopyWarning: \n",
      "A value is trying to be set on a copy of a slice from a DataFrame\n",
      "\n",
      "See the caveats in the documentation: https://pandas.pydata.org/pandas-docs/stable/user_guide/indexing.html#returning-a-view-versus-a-copy\n",
      "  temp_y.iloc[-1] = 1.0\n",
      "D:\\Programming\\University\\social-signal-processing-project\\source\\model_trainer_and_tester.py:95: SettingWithCopyWarning: \n",
      "A value is trying to be set on a copy of a slice from a DataFrame\n",
      "\n",
      "See the caveats in the documentation: https://pandas.pydata.org/pandas-docs/stable/user_guide/indexing.html#returning-a-view-versus-a-copy\n",
      "  temp_y.iloc[-1] = 1.0\n",
      "D:\\Programming\\University\\social-signal-processing-project\\source\\model_trainer_and_tester.py:95: SettingWithCopyWarning: \n",
      "A value is trying to be set on a copy of a slice from a DataFrame\n",
      "\n",
      "See the caveats in the documentation: https://pandas.pydata.org/pandas-docs/stable/user_guide/indexing.html#returning-a-view-versus-a-copy\n",
      "  temp_y.iloc[-1] = 1.0\n",
      "D:\\Programming\\University\\social-signal-processing-project\\source\\model_trainer_and_tester.py:95: SettingWithCopyWarning: \n",
      "A value is trying to be set on a copy of a slice from a DataFrame\n",
      "\n",
      "See the caveats in the documentation: https://pandas.pydata.org/pandas-docs/stable/user_guide/indexing.html#returning-a-view-versus-a-copy\n",
      "  temp_y.iloc[-1] = 1.0\n",
      "D:\\Programming\\University\\social-signal-processing-project\\source\\model_trainer_and_tester.py:95: SettingWithCopyWarning: \n",
      "A value is trying to be set on a copy of a slice from a DataFrame\n",
      "\n",
      "See the caveats in the documentation: https://pandas.pydata.org/pandas-docs/stable/user_guide/indexing.html#returning-a-view-versus-a-copy\n",
      "  temp_y.iloc[-1] = 1.0\n",
      "D:\\Programming\\University\\social-signal-processing-project\\source\\model_trainer_and_tester.py:95: SettingWithCopyWarning: \n",
      "A value is trying to be set on a copy of a slice from a DataFrame\n",
      "\n",
      "See the caveats in the documentation: https://pandas.pydata.org/pandas-docs/stable/user_guide/indexing.html#returning-a-view-versus-a-copy\n",
      "  temp_y.iloc[-1] = 1.0\n",
      "D:\\Programming\\University\\social-signal-processing-project\\source\\model_trainer_and_tester.py:95: SettingWithCopyWarning: \n",
      "A value is trying to be set on a copy of a slice from a DataFrame\n",
      "\n",
      "See the caveats in the documentation: https://pandas.pydata.org/pandas-docs/stable/user_guide/indexing.html#returning-a-view-versus-a-copy\n",
      "  temp_y.iloc[-1] = 1.0\n",
      "D:\\Programming\\University\\social-signal-processing-project\\source\\model_trainer_and_tester.py:95: SettingWithCopyWarning: \n",
      "A value is trying to be set on a copy of a slice from a DataFrame\n",
      "\n",
      "See the caveats in the documentation: https://pandas.pydata.org/pandas-docs/stable/user_guide/indexing.html#returning-a-view-versus-a-copy\n",
      "  temp_y.iloc[-1] = 1.0\n",
      "D:\\Programming\\University\\social-signal-processing-project\\source\\model_trainer_and_tester.py:95: SettingWithCopyWarning: \n",
      "A value is trying to be set on a copy of a slice from a DataFrame\n",
      "\n",
      "See the caveats in the documentation: https://pandas.pydata.org/pandas-docs/stable/user_guide/indexing.html#returning-a-view-versus-a-copy\n",
      "  temp_y.iloc[-1] = 1.0\n",
      "D:\\Programming\\University\\social-signal-processing-project\\source\\model_trainer_and_tester.py:95: SettingWithCopyWarning: \n",
      "A value is trying to be set on a copy of a slice from a DataFrame\n",
      "\n",
      "See the caveats in the documentation: https://pandas.pydata.org/pandas-docs/stable/user_guide/indexing.html#returning-a-view-versus-a-copy\n",
      "  temp_y.iloc[-1] = 1.0\n",
      "D:\\Programming\\University\\social-signal-processing-project\\source\\model_trainer_and_tester.py:95: SettingWithCopyWarning: \n",
      "A value is trying to be set on a copy of a slice from a DataFrame\n",
      "\n",
      "See the caveats in the documentation: https://pandas.pydata.org/pandas-docs/stable/user_guide/indexing.html#returning-a-view-versus-a-copy\n",
      "  temp_y.iloc[-1] = 1.0\n",
      "D:\\Programming\\University\\social-signal-processing-project\\source\\model_trainer_and_tester.py:95: SettingWithCopyWarning: \n",
      "A value is trying to be set on a copy of a slice from a DataFrame\n",
      "\n",
      "See the caveats in the documentation: https://pandas.pydata.org/pandas-docs/stable/user_guide/indexing.html#returning-a-view-versus-a-copy\n",
      "  temp_y.iloc[-1] = 1.0\n",
      "D:\\Programming\\University\\social-signal-processing-project\\source\\model_trainer_and_tester.py:95: SettingWithCopyWarning: \n",
      "A value is trying to be set on a copy of a slice from a DataFrame\n",
      "\n",
      "See the caveats in the documentation: https://pandas.pydata.org/pandas-docs/stable/user_guide/indexing.html#returning-a-view-versus-a-copy\n",
      "  temp_y.iloc[-1] = 1.0\n",
      "D:\\Programming\\University\\social-signal-processing-project\\source\\model_trainer_and_tester.py:95: SettingWithCopyWarning: \n",
      "A value is trying to be set on a copy of a slice from a DataFrame\n",
      "\n",
      "See the caveats in the documentation: https://pandas.pydata.org/pandas-docs/stable/user_guide/indexing.html#returning-a-view-versus-a-copy\n",
      "  temp_y.iloc[-1] = 1.0\n",
      "D:\\Programming\\University\\social-signal-processing-project\\source\\model_trainer_and_tester.py:95: SettingWithCopyWarning: \n",
      "A value is trying to be set on a copy of a slice from a DataFrame\n",
      "\n",
      "See the caveats in the documentation: https://pandas.pydata.org/pandas-docs/stable/user_guide/indexing.html#returning-a-view-versus-a-copy\n",
      "  temp_y.iloc[-1] = 1.0\n",
      "D:\\Programming\\University\\social-signal-processing-project\\source\\model_trainer_and_tester.py:95: SettingWithCopyWarning: \n",
      "A value is trying to be set on a copy of a slice from a DataFrame\n",
      "\n",
      "See the caveats in the documentation: https://pandas.pydata.org/pandas-docs/stable/user_guide/indexing.html#returning-a-view-versus-a-copy\n",
      "  temp_y.iloc[-1] = 1.0\n",
      "D:\\Programming\\University\\social-signal-processing-project\\source\\model_trainer_and_tester.py:95: SettingWithCopyWarning: \n",
      "A value is trying to be set on a copy of a slice from a DataFrame\n",
      "\n",
      "See the caveats in the documentation: https://pandas.pydata.org/pandas-docs/stable/user_guide/indexing.html#returning-a-view-versus-a-copy\n",
      "  temp_y.iloc[-1] = 1.0\n",
      "D:\\Programming\\University\\social-signal-processing-project\\source\\model_trainer_and_tester.py:95: SettingWithCopyWarning: \n",
      "A value is trying to be set on a copy of a slice from a DataFrame\n",
      "\n",
      "See the caveats in the documentation: https://pandas.pydata.org/pandas-docs/stable/user_guide/indexing.html#returning-a-view-versus-a-copy\n",
      "  temp_y.iloc[-1] = 1.0\n",
      "D:\\Programming\\University\\social-signal-processing-project\\source\\model_trainer_and_tester.py:95: SettingWithCopyWarning: \n",
      "A value is trying to be set on a copy of a slice from a DataFrame\n",
      "\n",
      "See the caveats in the documentation: https://pandas.pydata.org/pandas-docs/stable/user_guide/indexing.html#returning-a-view-versus-a-copy\n",
      "  temp_y.iloc[-1] = 1.0\n",
      "D:\\Programming\\University\\social-signal-processing-project\\source\\model_trainer_and_tester.py:95: SettingWithCopyWarning: \n",
      "A value is trying to be set on a copy of a slice from a DataFrame\n",
      "\n",
      "See the caveats in the documentation: https://pandas.pydata.org/pandas-docs/stable/user_guide/indexing.html#returning-a-view-versus-a-copy\n",
      "  temp_y.iloc[-1] = 1.0\n",
      "D:\\Programming\\University\\social-signal-processing-project\\source\\model_trainer_and_tester.py:95: SettingWithCopyWarning: \n",
      "A value is trying to be set on a copy of a slice from a DataFrame\n",
      "\n",
      "See the caveats in the documentation: https://pandas.pydata.org/pandas-docs/stable/user_guide/indexing.html#returning-a-view-versus-a-copy\n",
      "  temp_y.iloc[-1] = 1.0\n",
      "D:\\Programming\\University\\social-signal-processing-project\\source\\model_trainer_and_tester.py:95: SettingWithCopyWarning: \n",
      "A value is trying to be set on a copy of a slice from a DataFrame\n",
      "\n",
      "See the caveats in the documentation: https://pandas.pydata.org/pandas-docs/stable/user_guide/indexing.html#returning-a-view-versus-a-copy\n",
      "  temp_y.iloc[-1] = 1.0\n",
      "D:\\Programming\\University\\social-signal-processing-project\\source\\model_trainer_and_tester.py:95: SettingWithCopyWarning: \n",
      "A value is trying to be set on a copy of a slice from a DataFrame\n",
      "\n",
      "See the caveats in the documentation: https://pandas.pydata.org/pandas-docs/stable/user_guide/indexing.html#returning-a-view-versus-a-copy\n",
      "  temp_y.iloc[-1] = 1.0\n",
      "D:\\Programming\\University\\social-signal-processing-project\\source\\model_trainer_and_tester.py:95: SettingWithCopyWarning: \n",
      "A value is trying to be set on a copy of a slice from a DataFrame\n",
      "\n",
      "See the caveats in the documentation: https://pandas.pydata.org/pandas-docs/stable/user_guide/indexing.html#returning-a-view-versus-a-copy\n",
      "  temp_y.iloc[-1] = 1.0\n",
      "D:\\Programming\\University\\social-signal-processing-project\\source\\model_trainer_and_tester.py:95: SettingWithCopyWarning: \n",
      "A value is trying to be set on a copy of a slice from a DataFrame\n",
      "\n",
      "See the caveats in the documentation: https://pandas.pydata.org/pandas-docs/stable/user_guide/indexing.html#returning-a-view-versus-a-copy\n",
      "  temp_y.iloc[-1] = 1.0\n",
      "D:\\Programming\\University\\social-signal-processing-project\\source\\model_trainer_and_tester.py:95: SettingWithCopyWarning: \n",
      "A value is trying to be set on a copy of a slice from a DataFrame\n",
      "\n",
      "See the caveats in the documentation: https://pandas.pydata.org/pandas-docs/stable/user_guide/indexing.html#returning-a-view-versus-a-copy\n",
      "  temp_y.iloc[-1] = 1.0\n",
      "D:\\Programming\\University\\social-signal-processing-project\\source\\model_trainer_and_tester.py:95: SettingWithCopyWarning: \n",
      "A value is trying to be set on a copy of a slice from a DataFrame\n",
      "\n",
      "See the caveats in the documentation: https://pandas.pydata.org/pandas-docs/stable/user_guide/indexing.html#returning-a-view-versus-a-copy\n",
      "  temp_y.iloc[-1] = 1.0\n",
      "D:\\Programming\\University\\social-signal-processing-project\\source\\model_trainer_and_tester.py:95: SettingWithCopyWarning: \n",
      "A value is trying to be set on a copy of a slice from a DataFrame\n",
      "\n",
      "See the caveats in the documentation: https://pandas.pydata.org/pandas-docs/stable/user_guide/indexing.html#returning-a-view-versus-a-copy\n",
      "  temp_y.iloc[-1] = 1.0\n",
      "D:\\Programming\\University\\social-signal-processing-project\\source\\model_trainer_and_tester.py:95: SettingWithCopyWarning: \n",
      "A value is trying to be set on a copy of a slice from a DataFrame\n",
      "\n",
      "See the caveats in the documentation: https://pandas.pydata.org/pandas-docs/stable/user_guide/indexing.html#returning-a-view-versus-a-copy\n",
      "  temp_y.iloc[-1] = 1.0\n"
     ]
    }
   ],
   "source": [
    "features = ['pause','speakerChange', 'similarity', 'f0_diff', 'f0_baseline_diff']\n",
    "shift = [-1, 0, 1]\n",
    "\n",
    "X_train, y_train = read_in_dataset_lstm(features, shift, to_read='train')"
   ],
   "metadata": {
    "collapsed": false
   }
  },
  {
   "cell_type": "code",
   "execution_count": 6,
   "outputs": [
    {
     "data": {
      "text/plain": "(46640, 3, 1)"
     },
     "execution_count": 6,
     "metadata": {},
     "output_type": "execute_result"
    }
   ],
   "source": [
    "y_train.shape"
   ],
   "metadata": {
    "collapsed": false
   }
  }
 ],
 "metadata": {
  "kernelspec": {
   "display_name": "Python 3",
   "language": "python",
   "name": "python3"
  },
  "language_info": {
   "codemirror_mode": {
    "name": "ipython",
    "version": 3
   },
   "file_extension": ".py",
   "mimetype": "text/x-python",
   "name": "python",
   "nbconvert_exporter": "python",
   "pygments_lexer": "ipython3",
   "version": "3.9.1 (tags/v3.9.1:1e5d33e, Dec  7 2020, 17:08:21) [MSC v.1927 64 bit (AMD64)]"
  },
  "orig_nbformat": 4,
  "vscode": {
   "interpreter": {
    "hash": "b5342fc930bcbdfed7de5125749622e716833b6df91acbead76ab8060ed63519"
   }
  }
 },
 "nbformat": 4,
 "nbformat_minor": 2
}
