{
 "cells": [
  {
   "cell_type": "markdown",
   "id": "83a83341",
   "metadata": {},
   "source": [
    "# Build binary classification models where some use RFE selected features"
   ]
  },
  {
   "cell_type": "code",
   "execution_count": 114,
   "id": "d435b1bb",
   "metadata": {},
   "outputs": [
    {
     "data": {
      "text/plain": [
       "<module 'scoring_metrics' from 'c:\\\\Users\\\\marti\\\\Desktop\\\\TU Delft\\\\Q2\\\\Seminar Social Signal Processing\\\\code\\\\our code\\\\social-signal-processing-project\\\\source\\\\scoring_metrics.py'>"
      ]
     },
     "execution_count": 114,
     "metadata": {},
     "output_type": "execute_result"
    }
   ],
   "source": [
    "import model.load_data as ld\n",
    "import scoring_metrics as sm\n",
    "\n",
    "from sklearn import metrics\n",
    "import numpy as np\n",
    "import os\n",
    "import pandas as pd\n",
    "import matplotlib.pyplot as plt\n",
    "import seaborn as sns\n",
    "from scipy.stats import poisson\n",
    "from sklearn.svm import SVC \n",
    "from numpy import mean\n",
    "from numpy import std\n",
    "from sklearn.datasets import make_classification\n",
    "from sklearn.model_selection import cross_val_score\n",
    "from sklearn.model_selection import RepeatedStratifiedKFold\n",
    "from sklearn.ensemble import RandomForestClassifier\n",
    "from sklearn.linear_model import LogisticRegression\n",
    "from sklearn.ensemble import RandomForestClassifier\n",
    "from sklearn.model_selection import StratifiedKFold\n",
    "import xgboost as xgb\n",
    "xgb.set_config(verbosity=0)\n",
    "import matplotlib\n",
    "from sklearn.model_selection import train_test_split \n",
    "pd.set_option('display.max_columns', None)\n",
    "import sys\n",
    "np.set_printoptions(threshold=sys.maxsize)\n",
    "\n",
    "import importlib\n",
    "importlib.reload(sm)\n"
   ]
  },
  {
   "cell_type": "code",
   "execution_count": 115,
   "id": "29a92679",
   "metadata": {},
   "outputs": [],
   "source": [
    "datasets = \"\"\"Bed002 Bed003 Bed004 Bed005 Bed006 Bed008 Bed009 Bed010 Bed011 Bed012 Bed013 Bed014 Bed015 Bed016 Bed017 Bmr001 Bmr002 Bmr005 Bmr007 Bmr009 Bmr010 Bmr011 Bmr012 Bmr013 Bmr014 Bmr018 Bmr019 Bmr021 Bmr022 Bmr024 Bmr025 Bmr026 Bmr027 Bmr029 Bns001 Bns002\"\"\".split(\" \")\n",
    "results_merged_path = \"../results_merged_fixedf0/\"\n",
    "\n",
    "X_train_20, y_train_20, X_test_20, y_test_20 = ld.train_test_split(datasets,results_merged_path,0.2)\n",
    "X_train_40, y_train_40, X_test_40, y_test_40 = ld.train_test_split(datasets,results_merged_path,0.4)\n",
    "\n",
    "def filter(data):\n",
    "    data['similarity'] = data['similarity'].str[2:-2]\n",
    "    data['similarity'] = pd.to_numeric(data['similarity'])\n",
    "    data = data[['pause','speakerChange','similarity']]\n",
    "    \n",
    "    return data\n",
    "\n",
    "X_train_20 = filter(X_train_20)\n",
    "X_test_20 = filter(X_test_20)\n",
    "X_train_40 = filter(X_train_40)\n",
    "X_test_40 = filter(X_test_40)\n",
    "\n",
    "k = 53"
   ]
  },
  {
   "cell_type": "markdown",
   "id": "888c6482",
   "metadata": {},
   "source": [
    "## Test on commonly used models"
   ]
  },
  {
   "cell_type": "markdown",
   "id": "a0c80bba",
   "metadata": {},
   "source": [
    "### XGB Classifier for binary class"
   ]
  },
  {
   "cell_type": "code",
   "execution_count": 116,
   "id": "cc922337",
   "metadata": {},
   "outputs": [],
   "source": [
    "def XGB_class(X_train, X_test, y_train, y_test):\n",
    "    \n",
    "    clf = xgb.XGBClassifier(seed = 24, use_label_encoder =False)\n",
    "    clf.fit(X_train, y_train)\n",
    "    y_predicted = clf.predict(X_test)\n",
    "    \n",
    "    return clf.predict_proba(X_test)[:,1]"
   ]
  },
  {
   "cell_type": "code",
   "execution_count": 117,
   "id": "9c01f28d",
   "metadata": {},
   "outputs": [
    {
     "name": "stderr",
     "output_type": "stream",
     "text": [
      "C:\\Users\\marti\\AppData\\Local\\Packages\\PythonSoftwareFoundation.Python.3.10_qbz5n2kfra8p0\\LocalCache\\local-packages\\Python310\\site-packages\\xgboost\\sklearn.py:1421: UserWarning: `use_label_encoder` is deprecated in 1.7.0.\n",
      "  warnings.warn(\"`use_label_encoder` is deprecated in 1.7.0.\")\n"
     ]
    },
    {
     "name": "stdout",
     "output_type": "stream",
     "text": [
      "--------Using 20% as test subset:\n",
      "- windiff: 0.37054559328500575\n",
      "- pk: 0.21590766002098635\n",
      "--------Using 40% as test subset:\n",
      "- windiff: 0.30194019442963205\n",
      "- pk: 0.17826499277456648\n"
     ]
    }
   ],
   "source": [
    "XGBc_y_predicted_20 = XGB_class(X_train_20,X_test_20,y_train_20,y_test_20)\n",
    "print('--------Using 20% as test subset:')\n",
    "print('- windiff:',sm.get_windiff(np.array(XGBc_y_predicted_20),np.array(y_test_20),k))\n",
    "print('- pk:',sm.get_pk(np.array(XGBc_y_predicted_20),np.array(y_test_20),k))\n",
    "\n",
    "XGBc_y_predicted_40 = XGB_class(X_train_40,X_test_40,y_train_40,y_test_40)\n",
    "print('--------Using 40% as test subset:')\n",
    "print('- windiff:',sm.get_windiff(np.array(XGBc_y_predicted_40),np.array(y_test_40),k))\n",
    "print('- pk:',sm.get_pk(np.array(XGBc_y_predicted_40),np.array(y_test_40),k))\n"
   ]
  },
  {
   "cell_type": "markdown",
   "id": "5c8885d3",
   "metadata": {},
   "source": [
    "### SVM for binary class"
   ]
  },
  {
   "cell_type": "code",
   "execution_count": 118,
   "id": "d2de33db",
   "metadata": {},
   "outputs": [],
   "source": [
    "def SVMc(X_train,X_test,y_train,y_test):\n",
    "    clf = SVC(kernel='linear',probability=True) \n",
    "    clf.fit(X_train, y_train) \n",
    "    preds = clf.predict(X_test)\n",
    "    sSVM_y_predicted = clf.predict_proba(X_test)[:,1]\n",
    "    \n",
    "    return sSVM_y_predicted"
   ]
  },
  {
   "cell_type": "code",
   "execution_count": 128,
   "id": "98c7d574",
   "metadata": {},
   "outputs": [
    {
     "name": "stdout",
     "output_type": "stream",
     "text": [
      "--------Using 20% as test subset:\n",
      "- windiff: 0.42800457840518885\n",
      "- pk: 0.2606925498426023\n",
      "--------Using 40% as test subset:\n",
      "- windiff: 0.3256491242462775\n",
      "- pk: 0.19781882225433525\n"
     ]
    }
   ],
   "source": [
    "SVM_y_predicted_20 = SVMc(X_train_20,X_test_20,y_train_20,y_test_20)\n",
    "print('--------Using 20% as test subset:')\n",
    "print('- windiff:',sm.get_windiff(np.array(SVM_y_predicted_20),np.array(y_test_20),k))\n",
    "print('- pk:',sm.get_pk(np.array(SVM_y_predicted_20),np.array(y_test_20),k))\n",
    "\n",
    "SVM_y_predicted_40 = SVMc(X_train_40,X_test_40,y_train_40,y_test_40)\n",
    "print('--------Using 40% as test subset:')\n",
    "print('- windiff:',sm.get_windiff(np.array(SVM_y_predicted_40),np.array(y_test_40),k))\n",
    "print('- pk:',sm.get_pk(np.array(SVM_y_predicted_40),np.array(y_test_40),k))"
   ]
  },
  {
   "cell_type": "markdown",
   "id": "6df80d3c",
   "metadata": {},
   "source": [
    "### Random Forest classifier for binary class"
   ]
  },
  {
   "cell_type": "code",
   "execution_count": 120,
   "id": "ef7c64ae",
   "metadata": {},
   "outputs": [],
   "source": [
    "def RFc(X_train,X_test,y_train,y_test):\n",
    "    model = RandomForestClassifier().fit(X_train,y_train)\n",
    "    preds = model.predict(X_test)\n",
    "    sRFC_y_predicted = model.predict_proba(X_test)[:,1]\n",
    "    \n",
    "    return sRFC_y_predicted"
   ]
  },
  {
   "cell_type": "code",
   "execution_count": 121,
   "id": "a09f5463",
   "metadata": {},
   "outputs": [
    {
     "name": "stdout",
     "output_type": "stream",
     "text": [
      "Using 20% as test subset:\n",
      "- windiff: 0.03235406333460511\n",
      "- pk: 0.017796432318992656\n",
      "Using 40% as test subset:\n",
      "- windiff: 0.019566019935190124\n",
      "- pk: 0.010070447976878612\n"
     ]
    }
   ],
   "source": [
    "RFc_y_predicted_20 = RFc(X_train_20,X_test_20,y_train_20,y_test_20)\n",
    "print('Using 20% as test subset:')\n",
    "print('- windiff:',sm.get_windiff(np.array(RFc_y_predicted_20),np.array(y_test_20),k))\n",
    "print('- pk:',sm.get_pk(np.array(RFc_y_predicted_20),np.array(y_test_20),k))\n",
    "\n",
    "RFc_y_predicted_40 = RFc(X_train_40,X_test_40,y_train_40,y_test_40)\n",
    "print('Using 40% as test subset:')\n",
    "print('- windiff:',sm.get_windiff(np.array(RFc_y_predicted_40),np.array(y_test_40),k))\n",
    "print('- pk:',sm.get_pk(np.array(RFc_y_predicted_40),np.array(y_test_40),k))"
   ]
  },
  {
   "cell_type": "markdown",
   "id": "3f40b2a8",
   "metadata": {},
   "source": [
    "### Logistic Regressor for binary class"
   ]
  },
  {
   "cell_type": "code",
   "execution_count": 122,
   "id": "7b88a5a0",
   "metadata": {},
   "outputs": [],
   "source": [
    "def LR(X_train,X_test,y_train,y_test):\n",
    "    model = LogisticRegression(random_state=0).fit(X_train,y_train)\n",
    "    preds = model.predict(X_test)\n",
    "    sLR_y_predicted = model.predict_proba(X_test)[:,1]\n",
    "    \n",
    "    return sLR_y_predicted"
   ]
  },
  {
   "cell_type": "code",
   "execution_count": 127,
   "id": "c49ed00c",
   "metadata": {},
   "outputs": [
    {
     "name": "stdout",
     "output_type": "stream",
     "text": [
      "Using 20% as test subset:\n",
      "- windiff: 0.4291491797024037\n",
      "- pk: 0.2629171038824764\n",
      "Using 40% as test subset:\n",
      "- windiff: 0.32355715985069117\n",
      "- pk: 0.19671242774566475\n"
     ]
    }
   ],
   "source": [
    "LR_y_predicted_20 = LR(X_train_20,X_test_20,y_train_20,y_test_20)\n",
    "print('Using 20% as test subset:')\n",
    "print('- windiff:',sm.get_windiff(np.array(LR_y_predicted_20),np.array(y_test_20),k))\n",
    "print('- pk:',sm.get_pk(np.array(LR_y_predicted_20),np.array(y_test_20),k))\n",
    "\n",
    "LR_y_predicted_40 = LR(X_train_40,X_test_40,y_train_40,y_test_40)\n",
    "print('Using 40% as test subset:')\n",
    "print('- windiff:',sm.get_windiff(np.array(LR_y_predicted_40),np.array(y_test_40),k))\n",
    "print('- pk:',sm.get_pk(np.array(LR_y_predicted_40),np.array(y_test_40),k))"
   ]
  },
  {
   "cell_type": "markdown",
   "id": "7b0f8f54",
   "metadata": {},
   "source": [
    "### Plot AUC-ROC Curve"
   ]
  },
  {
   "cell_type": "code",
   "execution_count": 124,
   "id": "b8d6c1c1",
   "metadata": {},
   "outputs": [],
   "source": [
    "def roc(y_tests,y_predicted,models_name,title):  \n",
    "    if len(y_predicted)>2:  \n",
    "        #there are 4 diff colors in max\n",
    "        colors = [\"red\", \"blue\", \"green\", \"orange\"]\n",
    "            \n",
    "        for i in range(int(len(y_predicted)/2)):\n",
    "            fpr, tpr, _ = metrics.roc_curve(y_tests[i],  y_predicted[i])\n",
    "            #create ROC curve\n",
    "            plt.plot(fpr, tpr, linestyle='-',color=colors[i])\n",
    "\n",
    "        counter=0\n",
    "        for i in range(int(len(y_predicted)/2),int(len(y_predicted))):\n",
    "            fpr, tpr, _ = metrics.roc_curve(y_tests[i],  y_predicted[i])\n",
    "            #create ROC curve\n",
    "            plt.plot(fpr, tpr, linestyle='--',color=colors[counter])\n",
    "            counter+=1\n",
    "    \n",
    "    else:\n",
    "        for i in range(int(len(y_predicted))):\n",
    "            fpr, tpr, _ = metrics.roc_curve(y_tests[i],  y_predicted[i])\n",
    "            #create ROC curve\n",
    "            plt.plot(fpr, tpr, linestyle='-')\n",
    "    \n",
    "    plt.plot([0, 1], [0, 1], 'k--')\n",
    "    plt.xlim([-0.05, 1.0])\n",
    "    plt.ylim([0.0, 1.05])\n",
    "    plt.legend(models_name)\n",
    "    plt.ylabel('True Positive Rate')\n",
    "    plt.xlabel('False Positive Rate')\n",
    "    plt.title(title)\n",
    "    plt.show()"
   ]
  },
  {
   "cell_type": "code",
   "execution_count": 125,
   "id": "53ae586c",
   "metadata": {},
   "outputs": [
    {
     "name": "stderr",
     "output_type": "stream",
     "text": [
      "C:\\Users\\marti\\AppData\\Local\\Temp\\ipykernel_19248\\1674596823.py:1: VisibleDeprecationWarning: Creating an ndarray from ragged nested sequences (which is a list-or-tuple of lists-or-tuples-or ndarrays with different lengths or shapes) is deprecated. If you meant to do this, you must specify 'dtype=object' when creating the ndarray.\n",
      "  y_tests = np.array([y_test_20,y_test_20,y_test_20,y_test_40,y_test_40,y_test_40])\n",
      "C:\\Users\\marti\\AppData\\Local\\Temp\\ipykernel_19248\\1674596823.py:2: VisibleDeprecationWarning: Creating an ndarray from ragged nested sequences (which is a list-or-tuple of lists-or-tuples-or ndarrays with different lengths or shapes) is deprecated. If you meant to do this, you must specify 'dtype=object' when creating the ndarray.\n",
      "  y_preds = np.array([XGBc_y_predicted_20,RFc_y_predicted_20,LR_y_predicted_20,XGBc_y_predicted_40,RFc_y_predicted_40,LR_y_predicted_40])\n"
     ]
    },
    {
     "data": {
      "image/png": "[encoded data removed]",
      "text/plain": [
       "<Figure size 640x480 with 1 Axes>"
      ]
     },
     "metadata": {},
     "output_type": "display_data"
    }
   ],
   "source": [
    "y_tests = np.array([y_test_20,y_test_20,y_test_20,y_test_40,y_test_40,y_test_40])\n",
    "y_preds = np.array([XGBc_y_predicted_20,RFc_y_predicted_20,LR_y_predicted_20,XGBc_y_predicted_40,RFc_y_predicted_40,LR_y_predicted_40])\n",
    "models_name=np.array(['XGBc 20%','RFC 20%','LR 20%','XGBc 40%','RFC 40%','LR 40%'])\n",
    "title = 'ROC curve of simple models with split 80/20 and 60/40'\n",
    "roc(y_tests,y_preds,models_name,title)"
   ]
  },
  {
   "cell_type": "code",
   "execution_count": 126,
   "id": "1576a339",
   "metadata": {},
   "outputs": [],
   "source": [
    "# # First part is merging all meetings\n",
    "# datasets = \"Bed002 Bed003 Bed004 Bed005 Bed006 Bed008 Bed009 Bed010 Bed011 Bed012 Bed013 Bed014 Bed015 Bed016 Bed017 Bmr001 Bmr002 Bmr005 Bmr007 Bmr009 Bmr010 Bmr011 Bmr012 Bmr013 Bmr014 Bmr018 Bmr019 Bmr021 Bmr022 Bmr024 Bmr025 Bmr026 Bmr027 Bmr029 Bns001 Bns002\".split(\" \")\n",
    "# meetings_to_test = \"Bed002\".split(\" \")\n",
    "# results_merged_path = \"../results_merged/\"\n",
    "\n",
    "# all_df = pd.DataFrame()\n",
    "# for elem in meetings_to_test:\n",
    "#     path = (os.path.realpath(os.path.join(os.getcwd(), (f\"{results_merged_path}\"+ elem + \".csv\"))))\n",
    "#     df = pd.read_csv(path, sep=';')\n",
    "#     all_df = pd.concat([all_df,df], ignore_index=True)\n",
    "    \n",
    "# #change boolean to 1 or 0\n",
    "# all_df['speakerChange'] = all_df[\"speakerChange\"].astype(float)\n",
    "# all_df['boundary'] = all_df[\"boundary\"].astype(float)\n",
    "\n",
    "# #replace nan by zero\n",
    "# all_df.fillna(0,inplace=True)\n",
    "\n",
    "# #keep only useful columns (can't use f0_means, f0_stds, and similarity yet as they are lists)\n",
    "# #test using the same amount of rows with boundary==1 and ==0\n",
    "# # nbr_1 = len(all_df.loc[all_df['boundary']==1])\n",
    "# # df_0 = all_df.loc[all_df['boundary']==0].head(nbr_1)\n",
    "# # df_1 = all_df.loc[all_df['boundary']==1]\n",
    "# # df_balanced = pd.concat([df_0,df_1], ignore_index=True)\n",
    "# # df_balanced.reset_index(drop=True,inplace=True)\n",
    "# # X_df = df_balanced[['StartTimeA','EndTimeA','StartTimeB','EndTimeB','pause','speakerChange']]\n",
    "# # y_df = df_balanced['boundary']\n",
    "\n",
    "# #normal split (but WARNING!!! NBR OF BOUNDARY == 1 IS VERYYYY LOW)\n",
    "# X_df = all_df[['StartTimeA','EndTimeA','StartTimeB','EndTimeB','pause','speakerChange']]\n",
    "# y_df = all_df['boundary']\n",
    "\n",
    "# #check dataset statistics\n",
    "# print(y_df.describe())\n",
    "# print(X_df.corrwith(y_df))\n",
    "\n",
    "# #split dataset\n",
    "# X_train_20, X_test_20, y_train_20, y_test_20 = train_test_split(X_df, y_df, test_size = 0.20, random_state = 97,stratify=y_df)\n",
    "# X_train_40, X_test_40, y_train_40, y_test_40 = train_test_split(X_df, y_df, test_size = 0.40, random_state = 97,stratify=y_df)"
   ]
  }
 ],
 "metadata": {
  "kernelspec": {
   "display_name": "Python 3",
   "language": "python",
   "name": "python3"
  },
  "language_info": {
   "codemirror_mode": {
    "name": "ipython",
    "version": 3
   },
   "file_extension": ".py",
   "mimetype": "text/x-python",
   "name": "python",
   "nbconvert_exporter": "python",
   "pygments_lexer": "ipython3",
   "version": "3.10.9"
  },
  "vscode": {
   "interpreter": {
    "hash": "951acce4ee2d6eb9fe3565b96e466293146d7f1585a7e067fb08e2ff6ef89eb0"
   }
  }
 },
 "nbformat": 4,
 "nbformat_minor": 5
}
