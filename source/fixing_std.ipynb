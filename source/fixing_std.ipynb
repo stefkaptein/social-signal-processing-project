{
 "cells": [
  {
   "cell_type": "markdown",
   "source": [
    "# Purpose\n",
    "Data needs to be fixed up... again!\n",
    "\n",
    "In this case, for the resulting df the std is held as an array. So to fix it up, I'll just get the average of the std values contained, and 0 in case there's no values there. Not the best... but seems like it's the reasonable way of working with that"
   ],
   "metadata": {
    "collapsed": false
   }
  },
  {
   "cell_type": "code",
   "execution_count": 86,
   "outputs": [],
   "source": [
    "# I'm just copying the code I did elsewhere for merging boundaries\n",
    "import pandas as pd\n",
    "import numpy as np\n",
    "\n",
    "datasets = \"\"\"Bed002 Bed003 Bed004 Bed005 Bed006 Bed008 Bed009 Bed010 Bed011 Bed012 Bed013 Bed014 Bed015 Bed016 Bed017 Bmr001 Bmr002 Bmr005 Bmr007 Bmr009 Bmr010 Bmr011 Bmr012 Bmr013 Bmr014 Bmr018 Bmr019 Bmr021 Bmr022 Bmr024 Bmr025 Bmr026 Bmr027 Bmr029 Bns001 Bns002 Bns003 Bro003 Bro004 Bro005 Bro007 Bro008 Bro010 Bro011 Bro012 Bro013 Bro014 Bro015 Bro016 Bro017 Bro018 Bro019 Bro021 Bro022 Bro023 Bro024 Bro025 Bro026 Bro027 Bro028 Bsr001 Btr001 Btr002\"\"\".split(\" \")\n",
    "\n",
    "def mean_std_finder(arr):\n",
    "    if len(arr) == 1:\n",
    "        # So... it could be that there's one element or that it's an empty list\n",
    "        # which is there's this extra check\n",
    "        if arr[0] == '':\n",
    "            return 0.\n",
    "        else:\n",
    "            return arr[0]\n",
    "    else:\n",
    "        return np.array([float(x) for x in arr]).mean()\n",
    "\n",
    "#datasets = ['Bed002']\n",
    "\n",
    "for elem in datasets:\n",
    "    df = pd.read_csv(\"../results_merged_fixedf0/\" + elem + \".csv\", sep=';')\n",
    "    example = df['f0_stds']\n",
    "    example = example.str.strip('][').str.replace(\"'\", '').str.split(', ')\n",
    "    temp_res = example.apply(mean_std_finder)\n",
    "    df['f0_stds_means'] = temp_res\n",
    "    temp = df.drop(['f0_stds'], axis=1)\n",
    "    temp.to_csv('../results_merged_f0_stds_fixed/' + elem + '.csv', sep=';', index=False)"
   ],
   "metadata": {
    "collapsed": false
   }
  },
  {
   "cell_type": "code",
   "execution_count": null,
   "outputs": [],
   "source": [],
   "metadata": {
    "collapsed": false
   }
  }
 ],
 "metadata": {
  "kernelspec": {
   "display_name": "Python 3",
   "language": "python",
   "name": "python3"
  },
  "language_info": {
   "codemirror_mode": {
    "name": "ipython",
    "version": 2
   },
   "file_extension": ".py",
   "mimetype": "text/x-python",
   "name": "python",
   "nbconvert_exporter": "python",
   "pygments_lexer": "ipython2",
   "version": "2.7.6"
  }
 },
 "nbformat": 4,
 "nbformat_minor": 0
}
