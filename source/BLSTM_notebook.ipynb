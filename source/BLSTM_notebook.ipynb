{
 "cells": [
  {
   "attachments": {},
   "cell_type": "markdown",
   "metadata": {},
   "source": [
    "# BLSTM Notebook"
   ]
  },
  {
   "cell_type": "code",
   "execution_count": 9,
   "metadata": {
    "collapsed": false
   },
   "outputs": [],
   "source": [
    "import pandas as pd\n",
    "import numpy as np\n",
    "from model_trainer_and_tester import *\n",
    "from keras.models import Sequential\n",
    "from keras.layers import Dense, Dropout, LSTM, Bidirectional, Embedding, Input, TimeDistributed\n",
    "from model.scoring_metrics import get_windiff, get_pk, get_k_kappa\n",
    "from model.load_data import train_test_split_LSTM\n",
    "from model_trainer_and_tester import read_in_dataset_lstm"
   ]
  },
  {
   "cell_type": "code",
   "execution_count": 10,
   "metadata": {},
   "outputs": [],
   "source": [
    "batch_size = 64\n",
    "n_timesteps = 20\n",
    "train_ratio = 0.4 # ratio of meetings the model is trained on\n",
    "LSTM_units = 20\n",
    "\n",
    "features = ['pause','speakerChange', 'similarity', 'f0_diff', 'f0_baseline_diff']\n",
    "shift = [-1, 0, 1]\n",
    "\n",
    "datasets = \"\"\"Bed002 Bed003 Bed004 Bed005 Bed006 Bed008 Bed009 Bed010 Bed011 Bed012 Bed013 Bed014 Bed015 Bed016 Bed017 Bmr001 Bmr002 Bmr005 Bmr007 Bmr009 Bmr010 Bmr011 Bmr012 Bmr013 Bmr014 Bmr018 Bmr019 Bmr021 Bmr022 Bmr024 Bmr025 Bmr026 Bmr027 Bmr029 Bns001 Bns002\"\"\".split(\" \")\n",
    "results_merged_path = \"../results_merged_fixedf0/\""
   ]
  },
  {
   "cell_type": "code",
   "execution_count": 4,
   "metadata": {},
   "outputs": [
    {
     "name": "stderr",
     "output_type": "stream",
     "text": [
      "c:\\Users\\janwe\\AppData\\Local\\Programs\\Python\\Python39\\lib\\site-packages\\pandas\\core\\indexing.py:1732: SettingWithCopyWarning: \n",
      "A value is trying to be set on a copy of a slice from a DataFrame\n",
      "\n",
      "See the caveats in the documentation: https://pandas.pydata.org/pandas-docs/stable/user_guide/indexing.html#returning-a-view-versus-a-copy\n",
      "  self._setitem_single_block(indexer, value, name)\n",
      "c:\\Users\\janwe\\AppData\\Local\\Programs\\Python\\Python39\\lib\\site-packages\\pandas\\core\\indexing.py:723: SettingWithCopyWarning: \n",
      "A value is trying to be set on a copy of a slice from a DataFrame\n",
      "\n",
      "See the caveats in the documentation: https://pandas.pydata.org/pandas-docs/stable/user_guide/indexing.html#returning-a-view-versus-a-copy\n",
      "  iloc._setitem_with_indexer(indexer, value, self.name)\n"
     ]
    }
   ],
   "source": [
    "#with overlap\n",
    "\n",
    "X_train, Y_train = read_in_dataset_lstm(features, shift, to_read='train')\n",
    "X_test, Y_test = read_in_dataset_lstm(features, shift, to_read='test')\n",
    "\n",
    "X_train = X_train.astype(float)\n",
    "X_test = X_test.astype(float)\n",
    "\n",
    "n_timesteps = len(shift)"
   ]
  },
  {
   "cell_type": "code",
   "execution_count": 11,
   "metadata": {},
   "outputs": [],
   "source": [
    "#without overlap\n",
    "\n",
    "\n",
    "#load the data\n",
    "X_train_df, Y_train_df, X_test_df, Y_test_df= train_test_split_LSTM(datasets, results_merged_path, n_timesteps, split=train_ratio)\n",
    "\n",
    "# convert data from dataframes into numpy arrays of in a 3-D shape (samples, timesteps, features)\n",
    "X_train = X_train_df.values.astype('float32').reshape(-1, n_timesteps, 5)\n",
    "X_test = X_test_df.values.astype('float32').reshape(-1, n_timesteps, 5)\n",
    "Y_train = Y_train_df.values.astype('float32').reshape(-1, n_timesteps, 1)\n",
    "Y_test = Y_test_df.values.astype('float32').reshape(-1, n_timesteps, 1)"
   ]
  },
  {
   "cell_type": "code",
   "execution_count": 12,
   "metadata": {
    "collapsed": false
   },
   "outputs": [
    {
     "name": "stdout",
     "output_type": "stream",
     "text": [
      "Epoch 1/40\n",
      "16/16 [==============================] - 4s 60ms/step - loss: 9.9240e-10 - accuracy: 0.0692 - val_loss: 1.0450e-09 - val_accuracy: 0.0901\n",
      "Epoch 2/40\n",
      "16/16 [==============================] - 0s 17ms/step - loss: 9.9240e-10 - accuracy: 0.0692 - val_loss: 1.0450e-09 - val_accuracy: 0.0901\n",
      "Epoch 3/40\n",
      "16/16 [==============================] - 0s 16ms/step - loss: 9.9240e-10 - accuracy: 0.0692 - val_loss: 1.0450e-09 - val_accuracy: 0.0901\n",
      "Epoch 4/40\n",
      "16/16 [==============================] - 0s 18ms/step - loss: 9.9240e-10 - accuracy: 0.0692 - val_loss: 1.0450e-09 - val_accuracy: 0.0901\n",
      "Epoch 5/40\n",
      "16/16 [==============================] - 0s 14ms/step - loss: 9.9240e-10 - accuracy: 0.0692 - val_loss: 1.0450e-09 - val_accuracy: 0.0901\n",
      "Epoch 6/40\n",
      "16/16 [==============================] - 0s 17ms/step - loss: 9.9240e-10 - accuracy: 0.0692 - val_loss: 1.0450e-09 - val_accuracy: 0.0901\n",
      "Epoch 7/40\n",
      "16/16 [==============================] - 0s 17ms/step - loss: 9.9240e-10 - accuracy: 0.0692 - val_loss: 1.0450e-09 - val_accuracy: 0.0901\n",
      "Epoch 8/40\n",
      "16/16 [==============================] - 0s 18ms/step - loss: 9.9240e-10 - accuracy: 0.0692 - val_loss: 1.0450e-09 - val_accuracy: 0.0901\n",
      "Epoch 9/40\n",
      "16/16 [==============================] - 0s 17ms/step - loss: 9.9240e-10 - accuracy: 0.0692 - val_loss: 1.0450e-09 - val_accuracy: 0.0901\n",
      "Epoch 10/40\n",
      "16/16 [==============================] - 0s 17ms/step - loss: 9.9240e-10 - accuracy: 0.0692 - val_loss: 1.0450e-09 - val_accuracy: 0.0901\n",
      "Epoch 11/40\n",
      "16/16 [==============================] - 0s 15ms/step - loss: 9.9240e-10 - accuracy: 0.0692 - val_loss: 1.0450e-09 - val_accuracy: 0.0901\n",
      "Epoch 12/40\n",
      "16/16 [==============================] - 0s 16ms/step - loss: 9.9240e-10 - accuracy: 0.0692 - val_loss: 1.0450e-09 - val_accuracy: 0.0901\n",
      "Epoch 13/40\n",
      "16/16 [==============================] - 0s 16ms/step - loss: 9.9240e-10 - accuracy: 0.0692 - val_loss: 1.0450e-09 - val_accuracy: 0.0901\n",
      "Epoch 14/40\n",
      "16/16 [==============================] - 0s 15ms/step - loss: 9.9240e-10 - accuracy: 0.0692 - val_loss: 1.0450e-09 - val_accuracy: 0.0901\n",
      "Epoch 15/40\n",
      "16/16 [==============================] - 0s 15ms/step - loss: 9.9240e-10 - accuracy: 0.0692 - val_loss: 1.0450e-09 - val_accuracy: 0.0901\n",
      "Epoch 16/40\n",
      "16/16 [==============================] - 0s 14ms/step - loss: 9.9240e-10 - accuracy: 0.0692 - val_loss: 1.0450e-09 - val_accuracy: 0.0901\n",
      "Epoch 17/40\n",
      "16/16 [==============================] - 0s 15ms/step - loss: 9.9240e-10 - accuracy: 0.0692 - val_loss: 1.0450e-09 - val_accuracy: 0.0901\n",
      "Epoch 18/40\n",
      "16/16 [==============================] - 0s 14ms/step - loss: 9.9240e-10 - accuracy: 0.0692 - val_loss: 1.0450e-09 - val_accuracy: 0.0901\n",
      "Epoch 19/40\n",
      "16/16 [==============================] - 0s 14ms/step - loss: 9.9240e-10 - accuracy: 0.0692 - val_loss: 1.0450e-09 - val_accuracy: 0.0901\n",
      "Epoch 20/40\n",
      "16/16 [==============================] - 0s 14ms/step - loss: 9.9240e-10 - accuracy: 0.0692 - val_loss: 1.0450e-09 - val_accuracy: 0.0901\n",
      "Epoch 21/40\n",
      "16/16 [==============================] - 0s 16ms/step - loss: 9.9240e-10 - accuracy: 0.0692 - val_loss: 1.0450e-09 - val_accuracy: 0.0901\n",
      "Epoch 22/40\n",
      "16/16 [==============================] - 0s 13ms/step - loss: 9.9240e-10 - accuracy: 0.0692 - val_loss: 1.0450e-09 - val_accuracy: 0.0901\n",
      "Epoch 23/40\n",
      "16/16 [==============================] - 0s 14ms/step - loss: 9.9240e-10 - accuracy: 0.0692 - val_loss: 1.0450e-09 - val_accuracy: 0.0901\n",
      "Epoch 24/40\n",
      "16/16 [==============================] - 0s 14ms/step - loss: 9.9240e-10 - accuracy: 0.0692 - val_loss: 1.0450e-09 - val_accuracy: 0.0901\n",
      "Epoch 25/40\n",
      "16/16 [==============================] - 0s 14ms/step - loss: 9.9240e-10 - accuracy: 0.0692 - val_loss: 1.0450e-09 - val_accuracy: 0.0901\n",
      "Epoch 26/40\n",
      "16/16 [==============================] - 0s 16ms/step - loss: 9.9240e-10 - accuracy: 0.0692 - val_loss: 1.0450e-09 - val_accuracy: 0.0901\n",
      "Epoch 27/40\n",
      "16/16 [==============================] - 0s 15ms/step - loss: 9.9240e-10 - accuracy: 0.0692 - val_loss: 1.0450e-09 - val_accuracy: 0.0901\n",
      "Epoch 28/40\n",
      "16/16 [==============================] - 0s 16ms/step - loss: 9.9240e-10 - accuracy: 0.0692 - val_loss: 1.0450e-09 - val_accuracy: 0.0901\n",
      "Epoch 29/40\n",
      "16/16 [==============================] - 0s 16ms/step - loss: 9.9240e-10 - accuracy: 0.0692 - val_loss: 1.0450e-09 - val_accuracy: 0.0901\n",
      "Epoch 30/40\n",
      "16/16 [==============================] - 0s 15ms/step - loss: 9.9240e-10 - accuracy: 0.0692 - val_loss: 1.0450e-09 - val_accuracy: 0.0901\n",
      "Epoch 31/40\n",
      "16/16 [==============================] - 0s 17ms/step - loss: 9.9240e-10 - accuracy: 0.0692 - val_loss: 1.0450e-09 - val_accuracy: 0.0901\n",
      "Epoch 32/40\n",
      "16/16 [==============================] - 0s 16ms/step - loss: 9.9240e-10 - accuracy: 0.0692 - val_loss: 1.0450e-09 - val_accuracy: 0.0901\n",
      "Epoch 33/40\n",
      "16/16 [==============================] - 0s 15ms/step - loss: 9.9240e-10 - accuracy: 0.0692 - val_loss: 1.0450e-09 - val_accuracy: 0.0901\n",
      "Epoch 34/40\n",
      "16/16 [==============================] - 0s 16ms/step - loss: 9.9240e-10 - accuracy: 0.0692 - val_loss: 1.0450e-09 - val_accuracy: 0.0901\n",
      "Epoch 35/40\n",
      "16/16 [==============================] - 0s 15ms/step - loss: 9.9240e-10 - accuracy: 0.0692 - val_loss: 1.0450e-09 - val_accuracy: 0.0901\n",
      "Epoch 36/40\n",
      "16/16 [==============================] - 0s 14ms/step - loss: 9.9240e-10 - accuracy: 0.0692 - val_loss: 1.0450e-09 - val_accuracy: 0.0901\n",
      "Epoch 37/40\n",
      "16/16 [==============================] - 0s 14ms/step - loss: 9.9240e-10 - accuracy: 0.0692 - val_loss: 1.0450e-09 - val_accuracy: 0.0901\n",
      "Epoch 38/40\n",
      "16/16 [==============================] - 0s 14ms/step - loss: 9.9240e-10 - accuracy: 0.0692 - val_loss: 1.0450e-09 - val_accuracy: 0.0901\n",
      "Epoch 39/40\n",
      "16/16 [==============================] - 0s 16ms/step - loss: 9.9240e-10 - accuracy: 0.0692 - val_loss: 1.0450e-09 - val_accuracy: 0.0901\n",
      "Epoch 40/40\n",
      "16/16 [==============================] - 0s 14ms/step - loss: 9.9240e-10 - accuracy: 0.0692 - val_loss: 1.0450e-09 - val_accuracy: 0.0901\n"
     ]
    }
   ],
   "source": [
    "model = Sequential()\n",
    "model.add(Bidirectional(LSTM(LSTM_units, return_sequences=True), input_shape=(n_timesteps, len(features))))\n",
    "model.add(TimeDistributed(Dense(1, activation='sigmoid')))\n",
    "model.compile(loss='categorical_crossentropy', optimizer='adam', metrics=['accuracy'])\n",
    "\n",
    "#train the model\n",
    "history=model.fit(X_train, Y_train,\n",
    "                  batch_size=batch_size,\n",
    "                  epochs=40,\n",
    "                  validation_data=[X_test, Y_test])\n",
    "\n",
    "#measure the performance\n",
    "predictions = model(X_test).numpy()"
   ]
  },
  {
   "cell_type": "code",
   "execution_count": 26,
   "metadata": {
    "collapsed": false
   },
   "outputs": [],
   "source": [
    "Y_test_eval = Y_test[:, 1, 0]\n",
    "pred_eval = predictions[:, 1, 0]\n",
    "# I'll just be lazy for pred_eval, if bigger or equal to 0.5 than it's 1, else it's 0\n",
    "pred_eval = (pred_eval >= 0.1).astype(float)"
   ]
  },
  {
   "cell_type": "code",
   "execution_count": 21,
   "metadata": {},
   "outputs": [],
   "source": [
    "Y_test_eval = Y_test.flatten()\n",
    "pred_eval = predictions.flatten()\n",
    "pred_eval = (pred_eval >= 0.5).astype(float)"
   ]
  },
  {
   "cell_type": "code",
   "execution_count": 23,
   "metadata": {},
   "outputs": [
    {
     "name": "stdout",
     "output_type": "stream",
     "text": [
      "[[[0.5506092 ]\n",
      "  [0.5588558 ]\n",
      "  [0.5474897 ]\n",
      "  ...\n",
      "  [0.54922056]\n",
      "  [0.5511437 ]\n",
      "  [0.53763413]]\n",
      "\n",
      " [[0.57717365]\n",
      "  [0.5761189 ]\n",
      "  [0.56234396]\n",
      "  ...\n",
      "  [0.5559836 ]\n",
      "  [0.5248605 ]\n",
      "  [0.5384692 ]]\n",
      "\n",
      " [[0.5058322 ]\n",
      "  [0.49426886]\n",
      "  [0.505665  ]\n",
      "  ...\n",
      "  [0.56055427]\n",
      "  [0.54725194]\n",
      "  [0.5481628 ]]\n",
      "\n",
      " ...\n",
      "\n",
      " [[0.5732085 ]\n",
      "  [0.5650766 ]\n",
      "  [0.56385624]\n",
      "  ...\n",
      "  [0.4329162 ]\n",
      "  [0.5141409 ]\n",
      "  [0.49796537]]\n",
      "\n",
      " [[0.560122  ]\n",
      "  [0.5783169 ]\n",
      "  [0.58428764]\n",
      "  ...\n",
      "  [0.5599628 ]\n",
      "  [0.54653054]\n",
      "  [0.5329223 ]]\n",
      "\n",
      " [[0.5452558 ]\n",
      "  [0.53671676]\n",
      "  [0.5366806 ]\n",
      "  ...\n",
      "  [0.5188657 ]\n",
      "  [0.50154805]\n",
      "  [0.46091148]]]\n",
      "[1. 1. 1. ... 1. 1. 0.]\n"
     ]
    }
   ],
   "source": [
    "print(predictions)\n",
    "print(pred_eval)"
   ]
  },
  {
   "cell_type": "code",
   "execution_count": 19,
   "metadata": {},
   "outputs": [
    {
     "name": "stdout",
     "output_type": "stream",
     "text": [
      "(1540, 20, 1)\n",
      "(30800,)\n",
      "(30800,)\n",
      "(1540, 20, 1)\n",
      "0\n"
     ]
    }
   ],
   "source": [
    "print(Y_test.shape)\n",
    "print(pred_eval.shape)\n",
    "print(Y_test_eval.shape)\n",
    "print(predictions.shape)\n",
    "print(int(round(len(pred_eval) / (np.count_nonzero(pred_eval) * 2.0))))"
   ]
  },
  {
   "cell_type": "code",
   "execution_count": 15,
   "metadata": {
    "collapsed": false
   },
   "outputs": [
    {
     "name": "stdout",
     "output_type": "stream",
     "text": [
      "windiff: 1.0\n",
      "pk: 0.599030673649286\n",
      "K_k  0.0\n"
     ]
    }
   ],
   "source": [
    "windiff = get_windiff(Y_test_eval, pred_eval)\n",
    "pk = get_pk(Y_test_eval, pred_eval, k=58)\n",
    "k_k = get_k_kappa(Y_test_eval, pred_eval)\n",
    "print(\"windiff:\", windiff)\n",
    "print(\"pk:\", pk)\n",
    "print(\"K_k \", k_k)"
   ]
  }
 ],
 "metadata": {
  "kernelspec": {
   "display_name": "Python 3",
   "language": "python",
   "name": "python3"
  },
  "language_info": {
   "codemirror_mode": {
    "name": "ipython",
    "version": 3
   },
   "file_extension": ".py",
   "mimetype": "text/x-python",
   "name": "python",
   "nbconvert_exporter": "python",
   "pygments_lexer": "ipython3",
   "version": "3.9.1"
  },
  "orig_nbformat": 4,
  "vscode": {
   "interpreter": {
    "hash": "b5342fc930bcbdfed7de5125749622e716833b6df91acbead76ab8060ed63519"
   }
  }
 },
 "nbformat": 4,
 "nbformat_minor": 2
}
