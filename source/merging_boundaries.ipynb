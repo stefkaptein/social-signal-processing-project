{
 "cells": [
  {
   "cell_type": "raw",
   "metadata": {
    "collapsed": true,
    "pycharm": {
     "name": "#%% raw\n"
    }
   },
   "source": [
    "# Objective\n",
    "Simple notebook that just writes the separate datasets that have been written so far, and just merges them so that it is all contained in one dataset.\n",
    "\n",
    "Does two things:\n",
    "- Merge the text and topic segment datasets\n",
    "- Merge every single one of the datasets into one extra large dataset for convenience"
   ]
  },
  {
   "cell_type": "code",
   "execution_count": 58,
   "outputs": [],
   "source": [
    "# First part is merging text and topic segments\n",
    "import pandas as pd\n",
    "\n",
    "datasets = \"\"\"Bed002 Bed003 Bed004 Bed005 Bed006 Bed008 Bed009 Bed010 Bed011 Bed012 Bed013 Bed014 Bed015 Bed016 Bed017 Bmr001 Bmr002 Bmr005 Bmr007 Bmr009 Bmr010 Bmr011 Bmr012 Bmr013 Bmr014 Bmr018 Bmr019 Bmr021 Bmr022 Bmr024 Bmr025 Bmr026 Bmr027 Bmr029 Bns001 Bns002\"\"\".split(\" \")\n",
    "\n",
    "for elem in datasets:\n",
    "    df_text = pd.read_csv(\"../results/\" + elem + \"_final.csv\", sep=';').drop('Unnamed: 0', axis=1)\n",
    "    df_topic = pd.read_csv(\"../results/\" + elem + \"_segments_boundary.csv\", sep=';').drop('Unnamed: 0', axis=1)\n",
    "    temp = pd.merge(df_text, df_topic, on='segID').drop('id', axis=1)\n",
    "    temp.to_csv('../results_merged/' + elem + '.csv', sep=';', index=False)"
   ],
   "metadata": {
    "collapsed": false,
    "pycharm": {
     "name": "#%%\n"
    }
   }
  },
  {
   "cell_type": "code",
   "execution_count": 56,
   "outputs": [],
   "source": [
    "# Some of the entries would occasionally have weird issues, so I had to fix them separately\n",
    "# I'm just listing them here as they pop up. Fixing them up afterwards\n",
    "weird_elems = \"Bns003 Bro003 Bro004 Bro005 Bro007 Bro008 Bro010 Bro011 Bro012 Bro013 Bro014 Bro015 Bro016 Bro017 Bro018 Bro019 Bro021 Bro022 Bro023 Bro024 Bro025 Bro026 Bro027 Bro028 Bsr001 Btr001 Btr002\".split(' ')\n",
    "\n",
    "for elem in weird_elems:\n",
    "    df_text = pd.read_csv(\"../results/\" + elem + \"_final.csv\").drop(['Unnamed: 0', 'Unnamed: 0.1'], axis=1)\n",
    "    df_topic = pd.read_csv(\"../results/\" + elem + \"_segments_boundary.csv\", sep=\";\").drop('Unnamed: 0', axis=1)\n",
    "    temp = pd.merge(df_text, df_topic, on='segID').drop('id', axis=1)\n",
    "    temp.to_csv('../results_merged/' + elem + '.csv', sep=';', index=False)"
   ],
   "metadata": {
    "collapsed": false,
    "pycharm": {
     "name": "#%%\n"
    }
   }
  },
  {
   "cell_type": "markdown",
   "source": [
    "Now, creating a master dataframe that contains all of the entries. This is just done to make it easier to read things in when doing the processing.\n",
    "\n",
    "Also guarantees all entries have the same format, no matter what."
   ],
   "metadata": {
    "collapsed": false,
    "pycharm": {
     "name": "#%% md\n"
    }
   }
  },
  {
   "cell_type": "code",
   "execution_count": 66,
   "outputs": [],
   "source": [
    "datasets = \"\"\"Bed003 Bed004 Bed005 Bed006 Bed008 Bed009 Bed010 Bed011 Bed012 Bed013 Bed014 Bed015 Bed016 Bed017 Bmr001 Bmr002 Bmr005 Bmr007 Bmr009 Bmr010 Bmr011 Bmr012 Bmr013 Bmr014 Bmr018 Bmr019 Bmr021 Bmr022 Bmr024 Bmr025 Bmr026 Bmr027 Bmr029 Bns001 Bns002\"\"\".split(\" \")\n",
    "\n",
    "# Starting it manually with the first element, just to keep the structure\n",
    "elem = 'Bed002'\n",
    "master_df = pd.read_csv(\"../results_merged/\" + elem + \".csv\", sep=\";\")\n",
    "\n",
    "for elem in datasets:\n",
    "    df = pd.read_csv(\"../results_merged/\" + elem + \".csv\", sep=\";\")\n",
    "    master_df = pd.concat([master_df, df])"
   ],
   "metadata": {
    "collapsed": false,
    "pycharm": {
     "name": "#%%\n"
    }
   }
  },
  {
   "cell_type": "code",
   "execution_count": 73,
   "outputs": [],
   "source": [
    "master_df.to_csv('all_datasets.csv', sep=';', index=False)"
   ],
   "metadata": {
    "collapsed": false,
    "pycharm": {
     "name": "#%%\n"
    }
   }
  }
 ],
 "metadata": {
  "kernelspec": {
   "display_name": "Python 3",
   "language": "python",
   "name": "python3"
  },
  "language_info": {
   "codemirror_mode": {
    "name": "ipython",
    "version": 2
   },
   "file_extension": ".py",
   "mimetype": "text/x-python",
   "name": "python",
   "nbconvert_exporter": "python",
   "pygments_lexer": "ipython2",
   "version": "2.7.6"
  }
 },
 "nbformat": 4,
 "nbformat_minor": 0
}