{
 "cells": [
  {
   "cell_type": "code",
   "execution_count": 5,
   "metadata": {
    "collapsed": true
   },
   "outputs": [],
   "source": [
    "import numpy as np\n",
    "import pandas as pd\n",
    "import tensorflow as tf\n",
    "from keras.preprocessing import sequence\n",
    "from keras.models import Sequential\n",
    "from keras.layers import Dense, Dropout, LSTM, Bidirectional, Embedding, Input, TimeDistributed\n",
    "from model.load_data import train_test_split, train_test_split_LSTM\n",
    "\n",
    "from model.scoring_metrics import get_windiff, get_pk, get_k_kappa\n",
    "\n",
    "from model_trainer_and_tester import read_in_dataset_lstm, test_set_evaluate_multiple_lstm\n",
    "from tensorflow import keras\n",
    "\n",
    "batch_size = 64\n",
    "\n",
    "# I optimize on this, I think?\n",
    "LSTM_units = 20\n",
    "\n",
    "features = ['pause','speakerChange', 'similarity', 'f0_diff', 'f0_baseline_diff']"
   ]
  },
  {
   "cell_type": "code",
   "execution_count": 2,
   "outputs": [
    {
     "name": "stdout",
     "output_type": "stream",
     "text": [
      "Requirement already satisfied: tensorflow-addons in c:\\users\\lolco\\anaconda3\\lib\\site-packages (0.19.0)\n",
      "Requirement already satisfied: packaging in c:\\users\\lolco\\anaconda3\\lib\\site-packages (from tensorflow-addons) (22.0)\n",
      "Requirement already satisfied: typeguard>=2.7 in c:\\users\\lolco\\anaconda3\\lib\\site-packages (from tensorflow-addons) (2.13.3)\n",
      "Requirement already satisfied: typeguard in c:\\users\\lolco\\anaconda3\\lib\\site-packages (2.13.3)\n"
     ]
    }
   ],
   "source": [
    "!pip install tensorflow-addons\n",
    "!pip install typeguard"
   ],
   "metadata": {
    "collapsed": false
   }
  },
  {
   "cell_type": "code",
   "execution_count": 4,
   "outputs": [
    {
     "name": "stdout",
     "output_type": "stream",
     "text": [
      "(47450, 5, 5)\n",
      "(47450, 5, 1)\n"
     ]
    }
   ],
   "source": [
    "#load the data\n",
    "shifts = [-2, -1, 0, 1, 2]\n",
    "\n",
    "n_timesteps = len(shifts)\n",
    "feature_count = len(features)\n",
    "\n",
    "X_train, Y_train = read_in_dataset_lstm(features, shifts, to_read='train')\n",
    "X_test, Y_test = read_in_dataset_lstm(features, shifts, to_read='test')\n",
    "#train_test_split_LSTM(datasets, results_merged_path, n_timesteps, split=train_ratio)\n",
    "\n",
    "print(X_train.shape)\n",
    "print(Y_train.shape)\n",
    "\n",
    "# So, the model should be tanh activations and sigmoid outpiut layers...\n",
    "# I'm going to guess both layers should be blstm... but that's it pretty much I think?"
   ],
   "metadata": {
    "collapsed": false
   }
  },
  {
   "cell_type": "code",
   "execution_count": 17,
   "outputs": [
    {
     "data": {
      "text/plain": "array([1., 1., 1., ..., 1., 1., 1.])"
     },
     "execution_count": 17,
     "metadata": {},
     "output_type": "execute_result"
    }
   ],
   "source": [
    "# I'm going to do sample weight here. For now I'll just set the weight to be... half of the number of weird samples?\n",
    "\n",
    "sample_weight = np.ones(shape=(len(Y_train),))\n",
    "# I'm gonna increase the weight by the inverse of the proportion of weird examples that there are\n",
    "# How I define if there is a weird sample is by summing along the 2D squares to find where there's a 1, and then does a sum of times there's a 1\n",
    "# I'm going to do n_timesteps times the inverse count frequency, because in the final version we only predict with the center value. So to correct for this I add this increase\n",
    "new_weight = 5*n_timesteps*len(Y_train)/np.sum(Y_train, axis=1).sum()\n",
    "\n",
    "# Have to do a flatten() inside because of weird numpy stuff with a length 1 dimension\n",
    "sample_weight[(np.sum(Y_train, axis=1) >= 1).flatten()] = new_weight\n",
    "\n",
    "sample_weight"
   ],
   "metadata": {
    "collapsed": false
   }
  },
  {
   "cell_type": "code",
   "execution_count": 6,
   "outputs": [],
   "source": [
    "# for num_layers in range(1, 5):\n",
    "#     # It's 31 per step, because it allows for there to be 16 trials, and for me to not go crazy\n",
    "#     for hidden_units in range(16, 513, 31):\n",
    "#         #print(\"Starting model: \" + str((num_layers, hidden_units)))\n",
    "#         model = Sequential()\n",
    "#         # For the input number of units, I'll assume that number of timesteps * features is a good enough value\n",
    "#         for _ in range(num_layers):\n",
    "#             model.add(Bidirectional(LSTM(hidden_units, activation='tanh', return_sequences=True, dropout=0.3), input_shape=(n_timesteps, feature_count)))\n",
    "#         model.add(Bidirectional(LSTM(hidden_units, activation='sigmoid', return_sequences=True, dropout=0.3)))\n",
    "#         # This last time distributed is super important, it follows the output structure of the paper I've been following closely\n",
    "#         model.add(TimeDistributed(Dense(1, activation='sigmoid')))\n",
    "#         model.compile(loss='binary_crossentropy', optimizer='RMSprop',\n",
    "#                       metrics=[keras.metrics.Precision(name='precision'), tf.keras.metrics.Recall(name='recall')],\n",
    "#                       weighted_metrics=[])\n",
    "#\n",
    "#         # train the model\n",
    "#         history = model.fit(X_train, Y_train,\n",
    "#                   batch_size=batch_size,\n",
    "#                   epochs=20,\n",
    "#                   #class_weight= {0:1, 1:10},\n",
    "#                   # sample_weight_mode='temporal',\n",
    "#                   sample_weight=sample_weight,\n",
    "#                   validation_split=0.1,\n",
    "#                   verbose=0\n",
    "#                   )\n",
    "#\n",
    "#         print(\"Finished model: \" + str((num_layers, hidden_units)) + \" with Precision: \" + str(history.history['val_precision'][-1]))\n",
    "#\n",
    "#         hist_results_dict[(num_layers, hidden_units)] = history\n",
    "#         # It's -1, to take the last accuracy measure obtained\n",
    "#         acc_results_dict[(num_layers, hidden_units)] = (history.history['val_precision'][-1], history.history['val_recall'][-1])"
   ],
   "metadata": {
    "collapsed": false
   }
  },
  {
   "cell_type": "code",
   "execution_count": 7,
   "outputs": [
    {
     "data": {
      "text/plain": "<AxesSubplot: xlabel='Unnamed: 0', ylabel='Unnamed: 1'>"
     },
     "execution_count": 7,
     "metadata": {},
     "output_type": "execute_result"
    },
    {
     "data": {
      "text/plain": "<Figure size 432x288 with 2 Axes>",
      "image/png": "[encoded data removed]"
     },
     "metadata": {
      "needs_background": "light"
     },
     "output_type": "display_data"
    }
   ],
   "source": [
    "results = pd.read_csv('results_blstm.csv')\n",
    "\n",
    "results.plot.scatter('Unnamed: 0', 'Unnamed: 1', c='Precision', colormap='jet')"
   ],
   "metadata": {
    "collapsed": false
   }
  },
  {
   "cell_type": "code",
   "execution_count": 8,
   "outputs": [
    {
     "data": {
      "text/plain": "<AxesSubplot: xlabel='Unnamed: 0', ylabel='Unnamed: 1'>"
     },
     "execution_count": 8,
     "metadata": {},
     "output_type": "execute_result"
    },
    {
     "data": {
      "text/plain": "<Figure size 432x288 with 2 Axes>",
      "image/png": "[encoded data removed]"
     },
     "metadata": {
      "needs_background": "light"
     },
     "output_type": "display_data"
    }
   ],
   "source": [
    "results.plot.scatter('Unnamed: 0', 'Unnamed: 1', c='Recall', colormap='jet')"
   ],
   "metadata": {
    "collapsed": false
   }
  },
  {
   "cell_type": "markdown",
   "source": [
    "In the first plot, brighter color means better precision, in the second it means better precision.\n",
    "\n",
    "I could've done the testing better.... I feel focusing on too much hidden layers is not the best.\n",
    "\n",
    "The middle one for 2, that has around 300 points seems to be a pretty good middle point for the values. This is definitely more art than science, but the results obtained don't give a reliable heat map. This is also because that recall was also good enough.\n",
    "\n",
    "I definitely also made a mistake with the evaluation, but that's okay.\n",
    "\n",
    "So, 2 hidden layers and 200 units."
   ],
   "metadata": {
    "collapsed": false
   }
  },
  {
   "cell_type": "code",
   "execution_count": 23,
   "outputs": [],
   "source": [
    "def balanced_cross_entropy(beta):\n",
    "    def loss(y_true, y_pred):\n",
    "        weight_a = beta * tf.cast(y_true, tf.float32)\n",
    "        weight_b = (1 - beta) * tf.cast(1 - y_true, tf.float32)\n",
    "\n",
    "        o = (tf.math.log1p(tf.exp(-tf.abs(y_pred))) + tf.nn.relu(-y_pred)) * (weight_a + weight_b) + y_pred * weight_b\n",
    "        return tf.reduce_mean(o)\n",
    "\n",
    "    return loss"
   ],
   "metadata": {
    "collapsed": false
   }
  },
  {
   "cell_type": "code",
   "execution_count": 30,
   "outputs": [
    {
     "name": "stdout",
     "output_type": "stream",
     "text": [
      "Epoch 1/10\n",
      "668/668 [==============================] - 128s 174ms/step - loss: 1.2342 - precision: 0.1195 - recall: 0.0188 - val_loss: 0.9840 - val_precision: 0.1667 - val_recall: 0.0208\n",
      "Epoch 2/10\n",
      "668/668 [==============================] - 113s 169ms/step - loss: 1.1835 - precision: 0.1466 - recall: 0.0387 - val_loss: 1.0027 - val_precision: 0.0714 - val_recall: 0.0052\n",
      "Epoch 3/10\n",
      "668/668 [==============================] - 109s 163ms/step - loss: 1.1679 - precision: 0.1253 - recall: 0.0278 - val_loss: 0.9601 - val_precision: 0.0909 - val_recall: 0.0052\n",
      "Epoch 4/10\n",
      "668/668 [==============================] - 118s 177ms/step - loss: 1.1609 - precision: 0.1308 - recall: 0.0238 - val_loss: 1.0180 - val_precision: 0.0000e+00 - val_recall: 0.0000e+00\n",
      "Epoch 5/10\n",
      "668/668 [==============================] - 122s 182ms/step - loss: 1.1552 - precision: 0.1715 - recall: 0.0233 - val_loss: 0.9839 - val_precision: 0.0000e+00 - val_recall: 0.0000e+00\n",
      "Epoch 6/10\n",
      "668/668 [==============================] - 114s 170ms/step - loss: 1.1449 - precision: 0.1288 - recall: 0.0273 - val_loss: 0.9662 - val_precision: 0.1579 - val_recall: 0.0156\n",
      "Epoch 7/10\n",
      "668/668 [==============================] - 102s 153ms/step - loss: 1.1460 - precision: 0.1509 - recall: 0.0307 - val_loss: 0.9653 - val_precision: 0.2000 - val_recall: 0.0208\n",
      "Epoch 8/10\n",
      "668/668 [==============================] - 101s 152ms/step - loss: 1.1484 - precision: 0.1333 - recall: 0.0347 - val_loss: 0.9648 - val_precision: 0.3333 - val_recall: 0.0104\n",
      "Epoch 9/10\n",
      "668/668 [==============================] - 108s 162ms/step - loss: 1.1357 - precision: 0.1124 - recall: 0.0515 - val_loss: 1.0903 - val_precision: 0.0645 - val_recall: 0.0104\n",
      "Epoch 10/10\n",
      "668/668 [==============================] - 102s 153ms/step - loss: 1.1455 - precision: 0.1180 - recall: 0.0441 - val_loss: 1.0563 - val_precision: 0.2500 - val_recall: 0.0052\n"
     ]
    }
   ],
   "source": [
    "hidden_units = 200\n",
    "\n",
    "model = Sequential()\n",
    "# For the input number of units, I'll assume that number of timesteps * features is a good enough value\n",
    "model.add(Bidirectional(LSTM(hidden_units, activation='tanh', return_sequences=True, dropout=0.3), input_shape=(n_timesteps, feature_count)))\n",
    "model.add(Bidirectional(LSTM(hidden_units, activation='tanh', return_sequences=True, dropout=0.3), input_shape=(n_timesteps, feature_count)))\n",
    "\n",
    "model.add(Bidirectional(LSTM(hidden_units, activation='sigmoid', return_sequences=True, dropout=0.3)))\n",
    "# This last time distributed is super important, it follows the output structure of the paper I've been following closely\n",
    "model.add(TimeDistributed(Dense(1, activation='sigmoid')))\n",
    "\n",
    "import tensorflow_addons as tfa\n",
    "model.compile(loss=tfa.losses.sigmoid_focal_crossentropy, optimizer='RMSprop',\n",
    "              metrics=[keras.metrics.Precision(name='precision'), tf.keras.metrics.Recall(name='recall')],\n",
    "              weighted_metrics=[]\n",
    "              )\n",
    "\n",
    "# train the model\n",
    "history = model.fit(X_train, Y_train,\n",
    "          batch_size=batch_size,\n",
    "          epochs=10,\n",
    "          #class_weight= {0:1, 1:10},\n",
    "          # sample_weight_mode='temporal',\n",
    "          sample_weight=sample_weight,\n",
    "          validation_split=0.1,\n",
    "          )"
   ],
   "metadata": {
    "collapsed": false
   }
  },
  {
   "cell_type": "code",
   "execution_count": 31,
   "outputs": [
    {
     "name": "stdout",
     "output_type": "stream",
     "text": [
      "76/76 [==============================] - 3s 19ms/step\n",
      "71/71 [==============================] - 1s 20ms/step\n",
      "50/50 [==============================] - 1s 19ms/step\n",
      "58/58 [==============================] - 1s 19ms/step\n",
      "55/55 [==============================] - 1s 19ms/step\n",
      "52/52 [==============================] - 1s 19ms/step\n",
      "28/28 [==============================] - 1s 20ms/step\n",
      "18/18 [==============================] - 0s 20ms/step\n",
      "32/32 [==============================] - 1s 20ms/step\n",
      "37/37 [==============================] - 1s 20ms/step\n",
      "40/40 [==============================] - 1s 19ms/step\n",
      "26/26 [==============================] - 1s 20ms/step\n",
      "39/39 [==============================] - 1s 19ms/step\n",
      "8/8 [==============================] - 0s 19ms/step\n",
      "34/34 [==============================] - 1s 19ms/step\n",
      "38/38 [==============================] - 1s 19ms/step\n",
      "44/44 [==============================] - 1s 19ms/step\n",
      "41/41 [==============================] - 1s 19ms/step\n",
      "36/36 [==============================] - 1s 19ms/step\n",
      "30/30 [==============================] - 1s 19ms/step\n",
      "42/42 [==============================] - 1s 20ms/step\n",
      "58/58 [==============================] - 1s 20ms/step\n",
      "24/24 [==============================] - 0s 20ms/step\n",
      "41/41 [==============================] - 1s 20ms/step\n",
      "55/55 [==============================] - 1s 20ms/step\n",
      "45/45 [==============================] - 1s 19ms/step\n",
      "66/66 [==============================] - 1s 19ms/step\n",
      "75/75 [==============================] - 1s 19ms/step\n",
      "86/86 [==============================] - 2s 20ms/step\n"
     ]
    }
   ],
   "source": [
    "#model.save('blstm_optimized_model')\n",
    "temp_results = test_set_evaluate_multiple_lstm(model, features, shifts)"
   ],
   "metadata": {
    "collapsed": false
   }
  },
  {
   "cell_type": "code",
   "execution_count": 32,
   "outputs": [
    {
     "data": {
      "text/plain": "Pk         0.400382\nK-k        0.015582\nWindiff    0.402287\ndtype: float64"
     },
     "execution_count": 32,
     "metadata": {},
     "output_type": "execute_result"
    }
   ],
   "source": [
    "temp_results.mean()"
   ],
   "metadata": {
    "collapsed": false
   }
  },
  {
   "cell_type": "code",
   "execution_count": 14,
   "outputs": [
    {
     "name": "stdout",
     "output_type": "stream",
     "text": [
      "76/76 [==============================] - 1s 9ms/step\n",
      "71/71 [==============================] - 1s 8ms/step\n",
      "50/50 [==============================] - 1s 10ms/step\n",
      "58/58 [==============================] - 1s 15ms/step\n",
      "55/55 [==============================] - 1s 11ms/step\n",
      "52/52 [==============================] - 0s 9ms/step\n",
      "28/28 [==============================] - 0s 8ms/step\n",
      "18/18 [==============================] - 0s 10ms/step\n",
      "32/32 [==============================] - 0s 8ms/step\n",
      "37/37 [==============================] - 0s 7ms/step\n",
      "40/40 [==============================] - 1s 21ms/step\n",
      "26/26 [==============================] - 0s 9ms/step\n",
      "39/39 [==============================] - 0s 9ms/step\n",
      "8/8 [==============================] - 0s 10ms/step\n",
      "34/34 [==============================] - 0s 10ms/step\n",
      "38/38 [==============================] - 0s 10ms/step\n",
      "44/44 [==============================] - 0s 10ms/step\n",
      "41/41 [==============================] - 1s 15ms/step\n",
      "36/36 [==============================] - 1s 15ms/step\n",
      "30/30 [==============================] - 1s 17ms/step\n",
      "42/42 [==============================] - 1s 13ms/step\n",
      "58/58 [==============================] - 1s 14ms/step\n",
      "24/24 [==============================] - 1s 26ms/step\n",
      "41/41 [==============================] - 1s 19ms/step\n",
      "55/55 [==============================] - 1s 15ms/step\n",
      "45/45 [==============================] - 1s 13ms/step\n",
      "66/66 [==============================] - 1s 11ms/step\n",
      "75/75 [==============================] - 1s 14ms/step\n",
      "86/86 [==============================] - 1s 12ms/step\n"
     ]
    }
   ],
   "source": [
    "results = test_set_evaluate_multiple_lstm(model, features, shifts)"
   ],
   "metadata": {
    "collapsed": false
   }
  },
  {
   "cell_type": "code",
   "execution_count": 15,
   "outputs": [
    {
     "data": {
      "text/plain": "Pk         0.592640\nK-k       -0.002417\nWindiff    0.946877\ndtype: float64"
     },
     "execution_count": 15,
     "metadata": {},
     "output_type": "execute_result"
    }
   ],
   "source": [
    "results.mean()"
   ],
   "metadata": {
    "collapsed": false
   }
  },
  {
   "cell_type": "markdown",
   "source": [
    "Still kinda bad... actually that's really bad. But hey, nothing to do!\n",
    "\n",
    "So... I tested out a different model... and got scarily good results? Like again... wtf\n",
    "\n",
    "This is also a... not tuned model. Like... at alllll"
   ],
   "metadata": {
    "collapsed": false
   }
  },
  {
   "cell_type": "code",
   "execution_count": 6,
   "outputs": [
    {
     "name": "stdout",
     "output_type": "stream",
     "text": [
      "Fitting model\n",
      "668/668 [==============================] - 79s 102ms/step - loss: 0.6384 - precision: 0.6659 - recall: 0.8206 - val_loss: 0.0605 - val_precision: 0.9275 - val_recall: 1.0000\n",
      "76/76 [==============================] - 2s 8ms/step\n",
      "71/71 [==============================] - 1s 8ms/step\n",
      "50/50 [==============================] - 1s 10ms/step\n",
      "58/58 [==============================] - 1s 10ms/step\n",
      "55/55 [==============================] - 1s 10ms/step\n",
      "52/52 [==============================] - 1s 10ms/step\n",
      "28/28 [==============================] - 0s 9ms/step\n",
      "18/18 [==============================] - 0s 10ms/step\n",
      "32/32 [==============================] - 0s 11ms/step\n",
      "37/37 [==============================] - 0s 10ms/step\n",
      "40/40 [==============================] - 0s 10ms/step\n",
      "26/26 [==============================] - 0s 10ms/step\n",
      "39/39 [==============================] - 0s 9ms/step\n",
      "8/8 [==============================] - 0s 9ms/step\n",
      "34/34 [==============================] - 0s 10ms/step\n",
      "38/38 [==============================] - 0s 9ms/step\n",
      "44/44 [==============================] - 0s 9ms/step\n",
      "41/41 [==============================] - 0s 9ms/step\n",
      "36/36 [==============================] - 0s 9ms/step\n",
      "30/30 [==============================] - 0s 9ms/step\n",
      "42/42 [==============================] - 0s 9ms/step\n",
      "58/58 [==============================] - 1s 10ms/step\n",
      "24/24 [==============================] - 0s 8ms/step\n",
      "41/41 [==============================] - 0s 11ms/step\n",
      "55/55 [==============================] - 1s 9ms/step\n",
      "45/45 [==============================] - 1s 11ms/step\n",
      "66/66 [==============================] - 1s 10ms/step\n",
      "75/75 [==============================] - 1s 11ms/step\n",
      "86/86 [==============================] - 1s 10ms/step\n"
     ]
    }
   ],
   "source": [
    "temp_features = ['pause', 'speakerChange', 'similarity', 'f0_diff', 'f0_baseline_diff']\n",
    "\n",
    "# These are parameters that are constant regardless of the model\n",
    "batch_size = 64\n",
    "shifts = [-2, -1, 0, 1, 2]\n",
    "hidden_units = 200\n",
    "\n",
    "n_timesteps = len(shifts)\n",
    "feature_count = len(temp_features)\n",
    "\n",
    "X_train, Y_train = read_in_dataset_lstm(temp_features, shifts, to_read='train')\n",
    "\n",
    "sample_weight = np.ones(shape=(len(Y_train),))\n",
    "# I'm gonna increase the weight by the inverse of the proportion of weird examples that there are\n",
    "# How I define if there is a weird sample is by summing along the 2D squares to find where there's a 1, and then does a sum of times there's a 1\n",
    "# I'm going to do n_timesteps times the inverse count frequency, because in the final version we only predict with the center value. So to correct for this I add this increase\n",
    "new_weight = n_timesteps*len(Y_train)/np.sum(Y_train, axis=1).sum()\n",
    "\n",
    "# Have to do a flatten() inside because of weird numpy stuff with a length 1 dimension\n",
    "sample_weight[(np.sum(Y_train, axis=1) >= 1).flatten()] = new_weight\n",
    "\n",
    "model = Sequential()\n",
    "# For the input number of units, I'll assume that number of timesteps * features is a good enough value\n",
    "model.add(Bidirectional(LSTM(hidden_units, activation='tanh', return_sequences=True, dropout=0.3), input_shape=(n_timesteps, feature_count)))\n",
    "model.add(Bidirectional(LSTM(hidden_units, activation='tanh', return_sequences=True, dropout=0.3), input_shape=(n_timesteps, feature_count)))\n",
    "\n",
    "model.add(Bidirectional(LSTM(hidden_units, activation='sigmoid', return_sequences=True, dropout=0.3)))\n",
    "# This last time distributed is super important, it follows the output structure of the paper I've been following closely\n",
    "model.add(TimeDistributed(Dense(1, activation='sigmoid')))\n",
    "\n",
    "import tensorflow_addons as tfa\n",
    "model.compile(loss='binary_crossentropy', optimizer='RMSprop',\n",
    "              metrics=[keras.metrics.Precision(name='precision'), tf.keras.metrics.Recall(name='recall')],\n",
    "              weighted_metrics=[]\n",
    "              )\n",
    "\n",
    "# train the model\n",
    "print('Fitting model')\n",
    "history = model.fit(X_train, Y_train,\n",
    "                    batch_size=batch_size,\n",
    "                    epochs=1,\n",
    "                    #class_weight= {0:1, 1:10},\n",
    "                    # sample_weight_mode='temporal',\n",
    "                    sample_weight=sample_weight,\n",
    "                    validation_split=0.1,\n",
    "                    verbose=1\n",
    "                    )\n",
    "\n",
    "temp_results = test_set_evaluate_multiple_lstm(model, temp_features, shifts)"
   ],
   "metadata": {
    "collapsed": false
   }
  },
  {
   "cell_type": "code",
   "execution_count": 8,
   "outputs": [
    {
     "data": {
      "text/plain": "Pk         0.033247\nK-k        0.932966\nWindiff    0.039905\ndtype: float64"
     },
     "execution_count": 8,
     "metadata": {},
     "output_type": "execute_result"
    }
   ],
   "source": [
    "temp_results.mean()"
   ],
   "metadata": {
    "collapsed": false
   }
  }
 ],
 "metadata": {
  "kernelspec": {
   "display_name": "Python 3",
   "language": "python",
   "name": "python3"
  },
  "language_info": {
   "codemirror_mode": {
    "name": "ipython",
    "version": 2
   },
   "file_extension": ".py",
   "mimetype": "text/x-python",
   "name": "python",
   "nbconvert_exporter": "python",
   "pygments_lexer": "ipython2",
   "version": "2.7.6"
  }
 },
 "nbformat": 4,
 "nbformat_minor": 0
}
