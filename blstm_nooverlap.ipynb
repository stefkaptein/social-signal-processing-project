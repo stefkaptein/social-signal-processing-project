{
 "cells": [
  {
   "attachments": {},
   "cell_type": "markdown",
   "metadata": {},
   "source": [
    "# BLSTM Notebook"
   ]
  },
  {
   "cell_type": "code",
   "execution_count": 1,
   "metadata": {
    "collapsed": false
   },
   "outputs": [],
   "source": [
    "import numpy as np\n",
    "import pandas as pd\n",
    "import tensorflow as tf\n",
    "from keras.preprocessing import sequence\n",
    "from keras.models import Sequential\n",
    "from keras.layers import Dense, Dropout, LSTM, Bidirectional, Embedding, Input, TimeDistributed\n",
    "from source.model.load_data import train_test_split, train_test_split_LSTM\n",
    "\n",
    "from source.model.scoring_metrics import get_windiff, get_pk, get_k_kappa"
   ]
  },
  {
   "cell_type": "code",
   "execution_count": 2,
   "metadata": {},
   "outputs": [],
   "source": [
    "# these are hyperparameters. \n",
    "# TODO: We should try to find good values for these\n",
    "batch_size = 64\n",
    "n_timesteps = 20\n",
    "train_ratio = 0.6 # ratio of meetings the model is trained on\n",
    "LSTM_units = 20\n",
    "\n",
    "features = ['pause','speakerChange', 'similarity', 'f0_diff', 'f0_baseline_diff']\n",
    "\n",
    "datasets = \"\"\"Bed002 Bed003 Bed004 Bed005 Bed006 Bed008 Bed009 Bed010 Bed011 Bed012 Bed013 Bed014 Bed015 Bed016 Bed017 Bmr001 Bmr002 Bmr005 Bmr007 Bmr009 Bmr010 Bmr011 Bmr012 Bmr013 Bmr014 Bmr018 Bmr019 Bmr021 Bmr022 Bmr024 Bmr025 Bmr026 Bmr027 Bmr029 Bns001 Bns002\"\"\".split(\" \")\n",
    "results_merged_path = \"./results_merged_fixedf0/\""
   ]
  },
  {
   "cell_type": "code",
   "execution_count": 3,
   "metadata": {},
   "outputs": [
    {
     "name": "stdout",
     "output_type": "stream",
     "text": [
      "(20580, 5)\n",
      "(20580, 1)\n",
      "(31220, 5)\n",
      "(31220, 1)\n"
     ]
    }
   ],
   "source": [
    "#load the data\n",
    "X_train_df, Y_train_df, X_test_df, Y_test_df= train_test_split_LSTM(datasets, results_merged_path, n_timesteps, split=train_ratio)\n",
    "\n",
    "print(X_train_df.shape)\n",
    "print(Y_train_df.shape)\n",
    "print(X_test_df.shape)\n",
    "print(Y_test_df.shape)\n",
    "\n",
    "# convert data from dataframes into numpy arrays of in a 3-D shape (samples, timesteps, features)\n",
    "X_train = X_train_df.values.astype('float32').reshape(-1, n_timesteps, 5)\n",
    "X_test = X_test_df.values.astype('float32').reshape(-1, n_timesteps, 5)\n",
    "Y_train = Y_train_df.values.astype('float32').reshape(-1, n_timesteps, 1)\n",
    "Y_test = Y_test_df.values.astype('float32').reshape(-1, n_timesteps, 1)"
   ]
  },
  {
   "cell_type": "code",
   "execution_count": 4,
   "metadata": {
    "collapsed": false
   },
   "outputs": [
    {
     "name": "stdout",
     "output_type": "stream",
     "text": [
      "Epoch 1/100\n",
      "17/17 [==============================] - 5s 78ms/step - loss: 0.6686 - accuracy: 0.6121 - val_loss: 0.5565 - val_accuracy: 0.9768\n",
      "Epoch 2/100\n",
      "17/17 [==============================] - 0s 16ms/step - loss: 0.4479 - accuracy: 0.9895 - val_loss: 0.3287 - val_accuracy: 0.9916\n",
      "Epoch 3/100\n",
      "17/17 [==============================] - 0s 23ms/step - loss: 0.2218 - accuracy: 0.9908 - val_loss: 0.1311 - val_accuracy: 0.9918\n",
      "Epoch 4/100\n",
      "17/17 [==============================] - 0s 18ms/step - loss: 0.0965 - accuracy: 0.9909 - val_loss: 0.0721 - val_accuracy: 0.9918\n",
      "Epoch 5/100\n",
      "17/17 [==============================] - 0s 16ms/step - loss: 0.0669 - accuracy: 0.9909 - val_loss: 0.0585 - val_accuracy: 0.9918\n",
      "Epoch 6/100\n",
      "17/17 [==============================] - 0s 16ms/step - loss: 0.0599 - accuracy: 0.9909 - val_loss: 0.0544 - val_accuracy: 0.9918\n",
      "Epoch 7/100\n",
      "17/17 [==============================] - 0s 16ms/step - loss: 0.0575 - accuracy: 0.9909 - val_loss: 0.0528 - val_accuracy: 0.9918\n",
      "Epoch 8/100\n",
      "17/17 [==============================] - 0s 17ms/step - loss: 0.0565 - accuracy: 0.9909 - val_loss: 0.0519 - val_accuracy: 0.9918\n",
      "Epoch 9/100\n",
      "17/17 [==============================] - 0s 16ms/step - loss: 0.0560 - accuracy: 0.9909 - val_loss: 0.0514 - val_accuracy: 0.9918\n",
      "Epoch 10/100\n",
      "17/17 [==============================] - 0s 16ms/step - loss: 0.0556 - accuracy: 0.9909 - val_loss: 0.0510 - val_accuracy: 0.9918\n",
      "Epoch 11/100\n",
      "17/17 [==============================] - 0s 18ms/step - loss: 0.0553 - accuracy: 0.9909 - val_loss: 0.0508 - val_accuracy: 0.9918\n",
      "Epoch 12/100\n",
      "17/17 [==============================] - 0s 18ms/step - loss: 0.0550 - accuracy: 0.9909 - val_loss: 0.0505 - val_accuracy: 0.9918\n",
      "Epoch 13/100\n",
      "17/17 [==============================] - 0s 17ms/step - loss: 0.0547 - accuracy: 0.9909 - val_loss: 0.0504 - val_accuracy: 0.9918\n",
      "Epoch 14/100\n",
      "17/17 [==============================] - 0s 18ms/step - loss: 0.0545 - accuracy: 0.9909 - val_loss: 0.0503 - val_accuracy: 0.9918\n",
      "Epoch 15/100\n",
      "17/17 [==============================] - 0s 17ms/step - loss: 0.0543 - accuracy: 0.9909 - val_loss: 0.0501 - val_accuracy: 0.9918\n",
      "Epoch 16/100\n",
      "17/17 [==============================] - 0s 17ms/step - loss: 0.0540 - accuracy: 0.9909 - val_loss: 0.0501 - val_accuracy: 0.9918\n",
      "Epoch 17/100\n",
      "17/17 [==============================] - 0s 17ms/step - loss: 0.0538 - accuracy: 0.9909 - val_loss: 0.0500 - val_accuracy: 0.9918\n",
      "Epoch 18/100\n",
      "17/17 [==============================] - 0s 20ms/step - loss: 0.0536 - accuracy: 0.9909 - val_loss: 0.0498 - val_accuracy: 0.9918\n",
      "Epoch 19/100\n",
      "17/17 [==============================] - 0s 19ms/step - loss: 0.0533 - accuracy: 0.9909 - val_loss: 0.0498 - val_accuracy: 0.9918\n",
      "Epoch 20/100\n",
      "17/17 [==============================] - 0s 19ms/step - loss: 0.0531 - accuracy: 0.9909 - val_loss: 0.0496 - val_accuracy: 0.9918\n",
      "Epoch 21/100\n",
      "17/17 [==============================] - 0s 20ms/step - loss: 0.0529 - accuracy: 0.9909 - val_loss: 0.0493 - val_accuracy: 0.9918\n",
      "Epoch 22/100\n",
      "17/17 [==============================] - 0s 18ms/step - loss: 0.0526 - accuracy: 0.9909 - val_loss: 0.0492 - val_accuracy: 0.9918\n",
      "Epoch 23/100\n",
      "17/17 [==============================] - 0s 19ms/step - loss: 0.0524 - accuracy: 0.9909 - val_loss: 0.0492 - val_accuracy: 0.9918\n",
      "Epoch 24/100\n",
      "17/17 [==============================] - 0s 22ms/step - loss: 0.0522 - accuracy: 0.9909 - val_loss: 0.0492 - val_accuracy: 0.9918\n",
      "Epoch 25/100\n",
      "17/17 [==============================] - 0s 21ms/step - loss: 0.0521 - accuracy: 0.9909 - val_loss: 0.0489 - val_accuracy: 0.9918\n",
      "Epoch 26/100\n",
      "17/17 [==============================] - 0s 17ms/step - loss: 0.0519 - accuracy: 0.9909 - val_loss: 0.0491 - val_accuracy: 0.9918\n",
      "Epoch 27/100\n",
      "17/17 [==============================] - 0s 17ms/step - loss: 0.0516 - accuracy: 0.9909 - val_loss: 0.0488 - val_accuracy: 0.9918\n",
      "Epoch 28/100\n",
      "17/17 [==============================] - 0s 18ms/step - loss: 0.0515 - accuracy: 0.9909 - val_loss: 0.0487 - val_accuracy: 0.9917\n",
      "Epoch 29/100\n",
      "17/17 [==============================] - 0s 16ms/step - loss: 0.0512 - accuracy: 0.9909 - val_loss: 0.0485 - val_accuracy: 0.9917\n",
      "Epoch 30/100\n",
      "17/17 [==============================] - 0s 17ms/step - loss: 0.0511 - accuracy: 0.9909 - val_loss: 0.0485 - val_accuracy: 0.9917\n",
      "Epoch 31/100\n",
      "17/17 [==============================] - 0s 18ms/step - loss: 0.0510 - accuracy: 0.9909 - val_loss: 0.0488 - val_accuracy: 0.9917\n",
      "Epoch 32/100\n",
      "17/17 [==============================] - 0s 17ms/step - loss: 0.0507 - accuracy: 0.9909 - val_loss: 0.0484 - val_accuracy: 0.9917\n",
      "Epoch 33/100\n",
      "17/17 [==============================] - 0s 18ms/step - loss: 0.0505 - accuracy: 0.9909 - val_loss: 0.0481 - val_accuracy: 0.9917\n",
      "Epoch 34/100\n",
      "17/17 [==============================] - 0s 16ms/step - loss: 0.0504 - accuracy: 0.9909 - val_loss: 0.0479 - val_accuracy: 0.9917\n",
      "Epoch 35/100\n",
      "17/17 [==============================] - 0s 16ms/step - loss: 0.0503 - accuracy: 0.9909 - val_loss: 0.0479 - val_accuracy: 0.9917\n",
      "Epoch 36/100\n",
      "17/17 [==============================] - 0s 17ms/step - loss: 0.0501 - accuracy: 0.9909 - val_loss: 0.0477 - val_accuracy: 0.9917\n",
      "Epoch 37/100\n",
      "17/17 [==============================] - 0s 16ms/step - loss: 0.0500 - accuracy: 0.9909 - val_loss: 0.0480 - val_accuracy: 0.9917\n",
      "Epoch 38/100\n",
      "17/17 [==============================] - 0s 16ms/step - loss: 0.0498 - accuracy: 0.9909 - val_loss: 0.0475 - val_accuracy: 0.9917\n",
      "Epoch 39/100\n",
      "17/17 [==============================] - 0s 16ms/step - loss: 0.0498 - accuracy: 0.9909 - val_loss: 0.0477 - val_accuracy: 0.9917\n",
      "Epoch 40/100\n",
      "17/17 [==============================] - 0s 17ms/step - loss: 0.0496 - accuracy: 0.9909 - val_loss: 0.0475 - val_accuracy: 0.9917\n",
      "Epoch 41/100\n",
      "17/17 [==============================] - 0s 17ms/step - loss: 0.0495 - accuracy: 0.9909 - val_loss: 0.0473 - val_accuracy: 0.9917\n",
      "Epoch 42/100\n",
      "17/17 [==============================] - 0s 16ms/step - loss: 0.0494 - accuracy: 0.9909 - val_loss: 0.0473 - val_accuracy: 0.9917\n",
      "Epoch 43/100\n",
      "17/17 [==============================] - 0s 16ms/step - loss: 0.0494 - accuracy: 0.9909 - val_loss: 0.0474 - val_accuracy: 0.9917\n",
      "Epoch 44/100\n",
      "17/17 [==============================] - 0s 16ms/step - loss: 0.0492 - accuracy: 0.9909 - val_loss: 0.0473 - val_accuracy: 0.9917\n",
      "Epoch 45/100\n",
      "17/17 [==============================] - 0s 16ms/step - loss: 0.0491 - accuracy: 0.9909 - val_loss: 0.0474 - val_accuracy: 0.9916\n",
      "Epoch 46/100\n",
      "17/17 [==============================] - 0s 17ms/step - loss: 0.0492 - accuracy: 0.9909 - val_loss: 0.0472 - val_accuracy: 0.9916\n",
      "Epoch 47/100\n",
      "17/17 [==============================] - 0s 16ms/step - loss: 0.0490 - accuracy: 0.9909 - val_loss: 0.0471 - val_accuracy: 0.9916\n",
      "Epoch 48/100\n",
      "17/17 [==============================] - 0s 16ms/step - loss: 0.0488 - accuracy: 0.9909 - val_loss: 0.0470 - val_accuracy: 0.9916\n",
      "Epoch 49/100\n",
      "17/17 [==============================] - 0s 16ms/step - loss: 0.0488 - accuracy: 0.9909 - val_loss: 0.0472 - val_accuracy: 0.9916\n",
      "Epoch 50/100\n",
      "17/17 [==============================] - 0s 17ms/step - loss: 0.0487 - accuracy: 0.9909 - val_loss: 0.0470 - val_accuracy: 0.9916\n",
      "Epoch 51/100\n",
      "17/17 [==============================] - 0s 16ms/step - loss: 0.0487 - accuracy: 0.9909 - val_loss: 0.0469 - val_accuracy: 0.9916\n",
      "Epoch 52/100\n",
      "17/17 [==============================] - 0s 17ms/step - loss: 0.0486 - accuracy: 0.9909 - val_loss: 0.0468 - val_accuracy: 0.9916\n",
      "Epoch 53/100\n",
      "17/17 [==============================] - 0s 16ms/step - loss: 0.0486 - accuracy: 0.9909 - val_loss: 0.0469 - val_accuracy: 0.9917\n",
      "Epoch 54/100\n",
      "17/17 [==============================] - 0s 18ms/step - loss: 0.0485 - accuracy: 0.9909 - val_loss: 0.0469 - val_accuracy: 0.9917\n",
      "Epoch 55/100\n",
      "17/17 [==============================] - 0s 18ms/step - loss: 0.0485 - accuracy: 0.9909 - val_loss: 0.0469 - val_accuracy: 0.9916\n",
      "Epoch 56/100\n",
      "17/17 [==============================] - 0s 16ms/step - loss: 0.0485 - accuracy: 0.9909 - val_loss: 0.0471 - val_accuracy: 0.9916\n",
      "Epoch 57/100\n",
      "17/17 [==============================] - 0s 17ms/step - loss: 0.0484 - accuracy: 0.9909 - val_loss: 0.0468 - val_accuracy: 0.9917\n",
      "Epoch 58/100\n",
      "17/17 [==============================] - 0s 19ms/step - loss: 0.0483 - accuracy: 0.9909 - val_loss: 0.0472 - val_accuracy: 0.9916\n",
      "Epoch 59/100\n",
      "17/17 [==============================] - 0s 17ms/step - loss: 0.0484 - accuracy: 0.9909 - val_loss: 0.0470 - val_accuracy: 0.9916\n",
      "Epoch 60/100\n",
      "17/17 [==============================] - 0s 18ms/step - loss: 0.0483 - accuracy: 0.9909 - val_loss: 0.0469 - val_accuracy: 0.9916\n",
      "Epoch 61/100\n",
      "17/17 [==============================] - 0s 18ms/step - loss: 0.0482 - accuracy: 0.9909 - val_loss: 0.0469 - val_accuracy: 0.9916\n",
      "Epoch 62/100\n",
      "17/17 [==============================] - 0s 17ms/step - loss: 0.0481 - accuracy: 0.9909 - val_loss: 0.0467 - val_accuracy: 0.9916\n",
      "Epoch 63/100\n",
      "17/17 [==============================] - 0s 18ms/step - loss: 0.0481 - accuracy: 0.9909 - val_loss: 0.0468 - val_accuracy: 0.9916\n",
      "Epoch 64/100\n",
      "17/17 [==============================] - 0s 17ms/step - loss: 0.0481 - accuracy: 0.9909 - val_loss: 0.0470 - val_accuracy: 0.9916\n",
      "Epoch 65/100\n",
      "17/17 [==============================] - 0s 18ms/step - loss: 0.0483 - accuracy: 0.9909 - val_loss: 0.0467 - val_accuracy: 0.9917\n",
      "Epoch 66/100\n",
      "17/17 [==============================] - 0s 18ms/step - loss: 0.0482 - accuracy: 0.9909 - val_loss: 0.0466 - val_accuracy: 0.9917\n",
      "Epoch 67/100\n",
      "17/17 [==============================] - 0s 18ms/step - loss: 0.0480 - accuracy: 0.9909 - val_loss: 0.0468 - val_accuracy: 0.9916\n",
      "Epoch 68/100\n",
      "17/17 [==============================] - 0s 17ms/step - loss: 0.0478 - accuracy: 0.9909 - val_loss: 0.0466 - val_accuracy: 0.9916\n",
      "Epoch 69/100\n",
      "17/17 [==============================] - 0s 16ms/step - loss: 0.0478 - accuracy: 0.9909 - val_loss: 0.0467 - val_accuracy: 0.9916\n",
      "Epoch 70/100\n",
      "17/17 [==============================] - 0s 17ms/step - loss: 0.0478 - accuracy: 0.9909 - val_loss: 0.0468 - val_accuracy: 0.9915\n",
      "Epoch 71/100\n",
      "17/17 [==============================] - 0s 17ms/step - loss: 0.0477 - accuracy: 0.9909 - val_loss: 0.0466 - val_accuracy: 0.9915\n",
      "Epoch 72/100\n",
      "17/17 [==============================] - 0s 16ms/step - loss: 0.0477 - accuracy: 0.9909 - val_loss: 0.0473 - val_accuracy: 0.9915\n",
      "Epoch 73/100\n",
      "17/17 [==============================] - 0s 17ms/step - loss: 0.0484 - accuracy: 0.9909 - val_loss: 0.0467 - val_accuracy: 0.9914\n",
      "Epoch 74/100\n",
      "17/17 [==============================] - 0s 17ms/step - loss: 0.0479 - accuracy: 0.9909 - val_loss: 0.0472 - val_accuracy: 0.9914\n",
      "Epoch 75/100\n",
      "17/17 [==============================] - 0s 16ms/step - loss: 0.0478 - accuracy: 0.9909 - val_loss: 0.0466 - val_accuracy: 0.9914\n",
      "Epoch 76/100\n",
      "17/17 [==============================] - 0s 17ms/step - loss: 0.0475 - accuracy: 0.9909 - val_loss: 0.0469 - val_accuracy: 0.9914\n",
      "Epoch 77/100\n",
      "17/17 [==============================] - 0s 16ms/step - loss: 0.0475 - accuracy: 0.9909 - val_loss: 0.0466 - val_accuracy: 0.9914\n",
      "Epoch 78/100\n",
      "17/17 [==============================] - 0s 17ms/step - loss: 0.0474 - accuracy: 0.9909 - val_loss: 0.0467 - val_accuracy: 0.9915\n",
      "Epoch 79/100\n",
      "17/17 [==============================] - 0s 17ms/step - loss: 0.0473 - accuracy: 0.9909 - val_loss: 0.0468 - val_accuracy: 0.9915\n",
      "Epoch 80/100\n",
      "17/17 [==============================] - 0s 16ms/step - loss: 0.0475 - accuracy: 0.9909 - val_loss: 0.0467 - val_accuracy: 0.9915\n",
      "Epoch 81/100\n",
      "17/17 [==============================] - 0s 18ms/step - loss: 0.0473 - accuracy: 0.9909 - val_loss: 0.0469 - val_accuracy: 0.9914\n",
      "Epoch 82/100\n",
      "17/17 [==============================] - 0s 16ms/step - loss: 0.0472 - accuracy: 0.9909 - val_loss: 0.0468 - val_accuracy: 0.9914\n",
      "Epoch 83/100\n",
      "17/17 [==============================] - 0s 15ms/step - loss: 0.0473 - accuracy: 0.9909 - val_loss: 0.0470 - val_accuracy: 0.9914\n",
      "Epoch 84/100\n",
      "17/17 [==============================] - 0s 15ms/step - loss: 0.0472 - accuracy: 0.9910 - val_loss: 0.0468 - val_accuracy: 0.9914\n",
      "Epoch 85/100\n",
      "17/17 [==============================] - 0s 15ms/step - loss: 0.0471 - accuracy: 0.9909 - val_loss: 0.0467 - val_accuracy: 0.9915\n",
      "Epoch 86/100\n",
      "17/17 [==============================] - 0s 15ms/step - loss: 0.0471 - accuracy: 0.9909 - val_loss: 0.0468 - val_accuracy: 0.9915\n",
      "Epoch 87/100\n",
      "17/17 [==============================] - 0s 15ms/step - loss: 0.0470 - accuracy: 0.9909 - val_loss: 0.0472 - val_accuracy: 0.9915\n",
      "Epoch 88/100\n",
      "17/17 [==============================] - 0s 15ms/step - loss: 0.0470 - accuracy: 0.9909 - val_loss: 0.0467 - val_accuracy: 0.9915\n",
      "Epoch 89/100\n",
      "17/17 [==============================] - 0s 15ms/step - loss: 0.0469 - accuracy: 0.9909 - val_loss: 0.0466 - val_accuracy: 0.9915\n",
      "Epoch 90/100\n",
      "17/17 [==============================] - 0s 15ms/step - loss: 0.0468 - accuracy: 0.9909 - val_loss: 0.0469 - val_accuracy: 0.9915\n",
      "Epoch 91/100\n",
      "17/17 [==============================] - 0s 16ms/step - loss: 0.0469 - accuracy: 0.9909 - val_loss: 0.0470 - val_accuracy: 0.9915\n",
      "Epoch 92/100\n",
      "17/17 [==============================] - 0s 15ms/step - loss: 0.0470 - accuracy: 0.9909 - val_loss: 0.0466 - val_accuracy: 0.9915\n",
      "Epoch 93/100\n",
      "17/17 [==============================] - 0s 15ms/step - loss: 0.0467 - accuracy: 0.9909 - val_loss: 0.0472 - val_accuracy: 0.9915\n",
      "Epoch 94/100\n",
      "17/17 [==============================] - 0s 15ms/step - loss: 0.0468 - accuracy: 0.9909 - val_loss: 0.0467 - val_accuracy: 0.9915\n",
      "Epoch 95/100\n",
      "17/17 [==============================] - 0s 15ms/step - loss: 0.0465 - accuracy: 0.9910 - val_loss: 0.0468 - val_accuracy: 0.9915\n",
      "Epoch 96/100\n",
      "17/17 [==============================] - 0s 16ms/step - loss: 0.0467 - accuracy: 0.9909 - val_loss: 0.0468 - val_accuracy: 0.9915\n",
      "Epoch 97/100\n",
      "17/17 [==============================] - 0s 16ms/step - loss: 0.0465 - accuracy: 0.9910 - val_loss: 0.0467 - val_accuracy: 0.9914\n",
      "Epoch 98/100\n",
      "17/17 [==============================] - 0s 16ms/step - loss: 0.0466 - accuracy: 0.9909 - val_loss: 0.0467 - val_accuracy: 0.9914\n",
      "Epoch 99/100\n",
      "17/17 [==============================] - 0s 16ms/step - loss: 0.0466 - accuracy: 0.9910 - val_loss: 0.0464 - val_accuracy: 0.9914\n",
      "Epoch 100/100\n",
      "17/17 [==============================] - 0s 19ms/step - loss: 0.0464 - accuracy: 0.9910 - val_loss: 0.0468 - val_accuracy: 0.9914\n"
     ]
    }
   ],
   "source": [
    "# build the model\n",
    "model = Sequential()\n",
    "model.add(Bidirectional(LSTM(LSTM_units, return_sequences=True), input_shape=(n_timesteps, 5)))\n",
    "model.add(TimeDistributed(Dense(1, activation='sigmoid')))\n",
    "model.compile(loss='binary_crossentropy', optimizer='adam', metrics=['accuracy'])\n",
    "\n",
    "#train the model\n",
    "history=model.fit(X_train, Y_train,\n",
    "           batch_size=batch_size,\n",
    "           epochs=100,\n",
    "        #    class_weight= {0:1, 1:10},\n",
    "        #    sample_weight_mode='temporal',\n",
    "           validation_data=[X_test, Y_test])"
   ]
  },
  {
   "cell_type": "code",
   "execution_count": 5,
   "metadata": {},
   "outputs": [],
   "source": [
    "def find_threshold(predictions, Y_test):\n",
    "    thresholds_to_try = [0.0001, 0.0003, 0.001, 0.003, 0.01, 0.02, 0.03, 0.04, 0.05, 0.06, 0.07, 0.08, 0.09, 0.1, 0.2, 0.3, 0.4, 0.5]\n",
    "    windiffs = []\n",
    "    min_windiff = 1.0\n",
    "    best_threshold = 0\n",
    "    for threshold in thresholds_to_try:\n",
    "        pred = (predictions >= threshold).astype(float)\n",
    "        windiff = get_windiff(Y_test, pred)\n",
    "        windiffs.append(windiff)\n",
    "        if windiff < min_windiff:\n",
    "            min_windiff = windiff\n",
    "            best_threshold = threshold\n",
    "    print(\"windiffs with differnt thresholds:\", windiffs)\n",
    "    print(\"min_windiff:\", min_windiff)\n",
    "    print(\"best_threshold:\", best_threshold)\n",
    "    return best_threshold"
   ]
  },
  {
   "cell_type": "code",
   "execution_count": 6,
   "metadata": {},
   "outputs": [],
   "source": [
    "#measure the performance\n",
    "predictions = model(X_test).numpy()\n",
    "\n",
    "predictions = predictions.flatten()\n",
    "\n",
    "pred_eval = (predictions >= 0.5).astype(float)\n",
    "Y_test = Y_test.flatten()"
   ]
  },
  {
   "cell_type": "code",
   "execution_count": 7,
   "metadata": {},
   "outputs": [
    {
     "name": "stdout",
     "output_type": "stream",
     "text": [
      "windiffs with differnt thresholds: [1.0, 1.0, 1.0, 1.0, 0.9907252888318356, 0.8616495507060333, 0.7036585365853658, 0.5970474967907574, 0.5242618741976893, 0.469191270860077, 0.44589216944801024, 0.4378369704749679, 0.42586649550706035, 0.4265725288831836, 0.39971116816431324, 0.40070603337612326, 0.3933247753530167, 0.39120667522464697]\n",
      "min_windiff: 0.39120667522464697\n",
      "best_threshold: 0.5\n"
     ]
    }
   ],
   "source": [
    "threshold = find_threshold(predictions, Y_test)\n",
    "pred_eval = (predictions >= threshold).astype(float)"
   ]
  },
  {
   "cell_type": "code",
   "execution_count": 8,
   "metadata": {},
   "outputs": [
    {
     "name": "stdout",
     "output_type": "stream",
     "text": [
      "predictions: [0.00624905 0.0062713  0.00646483 ... 0.01037796 0.0133741  0.01399104]\n",
      "pred_eval: [0. 0. 0. ... 0. 0. 0.]\n",
      "# boundaries predicted: 12\n"
     ]
    }
   ],
   "source": [
    "print(\"predictions:\", predictions)\n",
    "print(\"pred_eval:\", pred_eval)\n",
    "print(\"# boundaries predicted:\", np.count_nonzero(pred_eval))"
   ]
  },
  {
   "cell_type": "code",
   "execution_count": 9,
   "metadata": {
    "collapsed": false
   },
   "outputs": [
    {
     "name": "stdout",
     "output_type": "stream",
     "text": [
      "windiff: 0.3910462130937099\n",
      "pk: 0.3777556717902641\n",
      "K_k  0.3578392621870882\n",
      "windiff_classifier: 0.39120667522464697\n",
      "pk_classifier: 0.3872593068035943\n",
      "K_k_classifier  0.013986523780164134\n"
     ]
    }
   ],
   "source": [
    "windiff = get_windiff(Y_test, predictions)\n",
    "pk = get_pk(Y_test, predictions, k=58)\n",
    "k_k = get_k_kappa(Y_test, predictions)\n",
    "print(\"windiff:\", windiff)\n",
    "print(\"pk:\", pk)\n",
    "print(\"K_k \", k_k)\n",
    "print(\"windiff_classifier:\", get_windiff(Y_test, pred_eval))\n",
    "print(\"pk_classifier:\", get_pk(Y_test, pred_eval))\n",
    "print(\"K_k_classifier \", get_k_kappa(Y_test, pred_eval))"
   ]
  }
 ],
 "metadata": {
  "kernelspec": {
   "display_name": "Python 3",
   "language": "python",
   "name": "python3"
  },
  "language_info": {
   "codemirror_mode": {
    "name": "ipython",
    "version": 3
   },
   "file_extension": ".py",
   "mimetype": "text/x-python",
   "name": "python",
   "nbconvert_exporter": "python",
   "pygments_lexer": "ipython3",
   "version": "3.9.1"
  },
  "orig_nbformat": 4,
  "vscode": {
   "interpreter": {
    "hash": "b5342fc930bcbdfed7de5125749622e716833b6df91acbead76ab8060ed63519"
   }
  }
 },
 "nbformat": 4,
 "nbformat_minor": 2
}
